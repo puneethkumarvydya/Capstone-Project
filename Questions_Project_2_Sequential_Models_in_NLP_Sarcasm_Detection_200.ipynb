{
  "nbformat": 4,
  "nbformat_minor": 0,
  "metadata": {
    "accelerator": "GPU",
    "colab": {
      "name": "Questions_Project_2_Sequential_Models_in_NLP_Sarcasm_Detection_200.ipynb",
      "provenance": [],
      "collapsed_sections": [],
      "toc_visible": true,
      "include_colab_link": true
    },
    "kernelspec": {
      "display_name": "Python 3",
      "language": "python",
      "name": "python3"
    },
    "language_info": {
      "codemirror_mode": {
        "name": "ipython",
        "version": 3
      },
      "file_extension": ".py",
      "mimetype": "text/x-python",
      "name": "python",
      "nbconvert_exporter": "python",
      "pygments_lexer": "ipython3",
      "version": "3.7.7"
    }
  },
  "cells": [
    {
      "cell_type": "markdown",
      "metadata": {
        "id": "view-in-github",
        "colab_type": "text"
      },
      "source": [
        "<a href=\"https://colab.research.google.com/github/puneethkumarvydya/Capstone-Project/blob/main/Questions_Project_2_Sequential_Models_in_NLP_Sarcasm_Detection_200.ipynb\" target=\"_parent\"><img src=\"https://colab.research.google.com/assets/colab-badge.svg\" alt=\"Open In Colab\"/></a>"
      ]
    },
    {
      "cell_type": "markdown",
      "metadata": {
        "id": "bI7SIeJ_oZMU"
      },
      "source": [
        "![alt text](https://drive.google.com/uc?export=view&id=1UXScsVx_Wni_JuDdB8LeTnM6jsPfIwkW)\n",
        "\n",
        "Proprietary content. © Great Learning. All Rights Reserved. Unauthorized use or distribution prohibited."
      ]
    },
    {
      "cell_type": "markdown",
      "metadata": {
        "id": "Eukag7wEoPZu"
      },
      "source": [
        "### Package Version:\n",
        "- tensorflow==2.2.0\n",
        "- pandas==1.0.5\n",
        "- numpy==1.18.5\n",
        "- google==2.0.3"
      ]
    },
    {
      "cell_type": "markdown",
      "metadata": {
        "id": "pp68FAQf9aMN"
      },
      "source": [
        "# Sarcasm Detection"
      ]
    },
    {
      "cell_type": "markdown",
      "metadata": {
        "id": "bEahVPtWX5ve"
      },
      "source": [
        "### Dataset\n",
        "\n",
        "#### Acknowledgement\n",
        "Misra, Rishabh, and Prahal Arora. \"Sarcasm Detection using Hybrid Neural Network.\" arXiv preprint arXiv:1908.07414 (2019).\n",
        "\n",
        "**Required Files given in below link.**\n",
        "\n",
        "https://drive.google.com/drive/folders/1xUnF35naPGU63xwRDVGc-DkZ3M8V5mMk"
      ]
    },
    {
      "cell_type": "markdown",
      "metadata": {
        "id": "vAk6BRUh8CqL"
      },
      "source": [
        "### Load Data (3 Marks)"
      ]
    },
    {
      "cell_type": "code",
      "metadata": {
        "id": "v8-PQsV0DrAZ"
      },
      "source": [
        "%tensorflow_version 2.x\n",
        "import tensorflow\n",
        "tensorflow.__version__\n",
        "import pandas as pd\n",
        "import numpy as np\n",
        "import os\n",
        "import google_drive_downloader\n",
        "import json"
      ],
      "execution_count": null,
      "outputs": []
    },
    {
      "cell_type": "code",
      "metadata": {
        "colab": {
          "base_uri": "https://localhost:8080/",
          "height": 35
        },
        "id": "VLyeLCBTzuWM",
        "outputId": "c0eab3f5-3b04-4120-9e3d-663e0f0dafbe"
      },
      "source": [
        "from google.colab import drive\n",
        "drive.mount('/content/drive')"
      ],
      "execution_count": null,
      "outputs": [
        {
          "output_type": "stream",
          "text": [
            "Mounted at /content/drive\n"
          ],
          "name": "stdout"
        }
      ]
    },
    {
      "cell_type": "code",
      "metadata": {
        "colab": {
          "base_uri": "https://localhost:8080/",
          "height": 121
        },
        "id": "o8HnHxJ11AS9",
        "outputId": "bda80565-8562-4829-b07d-4028f18b9ab6"
      },
      "source": [
        "os.chdir('/content/drive/My Drive/LSTM-Project/') \n",
        "os.listdir()"
      ],
      "execution_count": null,
      "outputs": [
        {
          "output_type": "execute_result",
          "data": {
            "text/plain": [
              "['glove.6B.zip',\n",
              " 'Sarcasm_Headlines_Dataset.json',\n",
              " 'glove.6B.50d.txt',\n",
              " 'glove.6B.100d.txt',\n",
              " 'glove.6B.200d.txt',\n",
              " 'glove.6B.300d.txt']"
            ]
          },
          "metadata": {
            "tags": []
          },
          "execution_count": 3
        }
      ]
    },
    {
      "cell_type": "code",
      "metadata": {
        "id": "M88WhAYy7LdQ"
      },
      "source": [
        "from zipfile import ZipFile\n",
        "with ZipFile(\"glove.6B.zip\",'r') as z:\n",
        "  z.extractall()"
      ],
      "execution_count": null,
      "outputs": []
    },
    {
      "cell_type": "code",
      "metadata": {
        "colab": {
          "base_uri": "https://localhost:8080/",
          "height": 121
        },
        "id": "pFgGm4G17_YY",
        "outputId": "dbab4a90-0e92-4012-f71c-1f66132e703a"
      },
      "source": [
        "os.listdir()\n",
        "#os.chdir('Sarcasm Detection/Data')\n",
        "os.listdir()"
      ],
      "execution_count": null,
      "outputs": [
        {
          "output_type": "execute_result",
          "data": {
            "text/plain": [
              "['glove.6B.zip',\n",
              " 'Sarcasm_Headlines_Dataset.json',\n",
              " 'glove.6B.50d.txt',\n",
              " 'glove.6B.100d.txt',\n",
              " 'glove.6B.200d.txt',\n",
              " 'glove.6B.300d.txt']"
            ]
          },
          "metadata": {
            "tags": []
          },
          "execution_count": 5
        }
      ]
    },
    {
      "cell_type": "code",
      "metadata": {
        "id": "PslPSXwPEDyn"
      },
      "source": [
        "\n",
        "#json.loads('/content/drive/My Drive/LSTM-Project/Sarcasm_Headlines_Dataset.json')\n",
        "data = pd.read_json('/content/drive/My Drive/LSTM-Project/Sarcasm_Headlines_Dataset.json',lines=True)"
      ],
      "execution_count": null,
      "outputs": []
    },
    {
      "cell_type": "markdown",
      "metadata": {
        "id": "z6pXf7A78E2H"
      },
      "source": [
        "### Drop `article_link` from dataset (3 Marks)"
      ]
    },
    {
      "cell_type": "code",
      "metadata": {
        "colab": {
          "base_uri": "https://localhost:8080/",
          "height": 202
        },
        "id": "-WUNHq5zEV0n",
        "outputId": "8c22e699-fa75-49b1-b5cc-f9987a3305cc"
      },
      "source": [
        "data.head()"
      ],
      "execution_count": null,
      "outputs": [
        {
          "output_type": "execute_result",
          "data": {
            "text/html": [
              "<div>\n",
              "<style scoped>\n",
              "    .dataframe tbody tr th:only-of-type {\n",
              "        vertical-align: middle;\n",
              "    }\n",
              "\n",
              "    .dataframe tbody tr th {\n",
              "        vertical-align: top;\n",
              "    }\n",
              "\n",
              "    .dataframe thead th {\n",
              "        text-align: right;\n",
              "    }\n",
              "</style>\n",
              "<table border=\"1\" class=\"dataframe\">\n",
              "  <thead>\n",
              "    <tr style=\"text-align: right;\">\n",
              "      <th></th>\n",
              "      <th>article_link</th>\n",
              "      <th>headline</th>\n",
              "      <th>is_sarcastic</th>\n",
              "    </tr>\n",
              "  </thead>\n",
              "  <tbody>\n",
              "    <tr>\n",
              "      <th>0</th>\n",
              "      <td>https://www.huffingtonpost.com/entry/versace-b...</td>\n",
              "      <td>former versace store clerk sues over secret 'b...</td>\n",
              "      <td>0</td>\n",
              "    </tr>\n",
              "    <tr>\n",
              "      <th>1</th>\n",
              "      <td>https://www.huffingtonpost.com/entry/roseanne-...</td>\n",
              "      <td>the 'roseanne' revival catches up to our thorn...</td>\n",
              "      <td>0</td>\n",
              "    </tr>\n",
              "    <tr>\n",
              "      <th>2</th>\n",
              "      <td>https://local.theonion.com/mom-starting-to-fea...</td>\n",
              "      <td>mom starting to fear son's web series closest ...</td>\n",
              "      <td>1</td>\n",
              "    </tr>\n",
              "    <tr>\n",
              "      <th>3</th>\n",
              "      <td>https://politics.theonion.com/boehner-just-wan...</td>\n",
              "      <td>boehner just wants wife to listen, not come up...</td>\n",
              "      <td>1</td>\n",
              "    </tr>\n",
              "    <tr>\n",
              "      <th>4</th>\n",
              "      <td>https://www.huffingtonpost.com/entry/jk-rowlin...</td>\n",
              "      <td>j.k. rowling wishes snape happy birthday in th...</td>\n",
              "      <td>0</td>\n",
              "    </tr>\n",
              "  </tbody>\n",
              "</table>\n",
              "</div>"
            ],
            "text/plain": [
              "                                        article_link  ... is_sarcastic\n",
              "0  https://www.huffingtonpost.com/entry/versace-b...  ...            0\n",
              "1  https://www.huffingtonpost.com/entry/roseanne-...  ...            0\n",
              "2  https://local.theonion.com/mom-starting-to-fea...  ...            1\n",
              "3  https://politics.theonion.com/boehner-just-wan...  ...            1\n",
              "4  https://www.huffingtonpost.com/entry/jk-rowlin...  ...            0\n",
              "\n",
              "[5 rows x 3 columns]"
            ]
          },
          "metadata": {
            "tags": []
          },
          "execution_count": 5
        }
      ]
    },
    {
      "cell_type": "code",
      "metadata": {
        "colab": {
          "base_uri": "https://localhost:8080/",
          "height": 375
        },
        "id": "GJfLFZCt_Zp_",
        "outputId": "443150de-ea42-4354-91cc-0390f776901b"
      },
      "source": [
        "data.info()\n",
        "data = data.drop('article_link',axis=1)\n",
        "data.head()"
      ],
      "execution_count": null,
      "outputs": [
        {
          "output_type": "stream",
          "text": [
            "<class 'pandas.core.frame.DataFrame'>\n",
            "RangeIndex: 26709 entries, 0 to 26708\n",
            "Data columns (total 3 columns):\n",
            " #   Column        Non-Null Count  Dtype \n",
            "---  ------        --------------  ----- \n",
            " 0   article_link  26709 non-null  object\n",
            " 1   headline      26709 non-null  object\n",
            " 2   is_sarcastic  26709 non-null  int64 \n",
            "dtypes: int64(1), object(2)\n",
            "memory usage: 626.1+ KB\n"
          ],
          "name": "stdout"
        },
        {
          "output_type": "execute_result",
          "data": {
            "text/html": [
              "<div>\n",
              "<style scoped>\n",
              "    .dataframe tbody tr th:only-of-type {\n",
              "        vertical-align: middle;\n",
              "    }\n",
              "\n",
              "    .dataframe tbody tr th {\n",
              "        vertical-align: top;\n",
              "    }\n",
              "\n",
              "    .dataframe thead th {\n",
              "        text-align: right;\n",
              "    }\n",
              "</style>\n",
              "<table border=\"1\" class=\"dataframe\">\n",
              "  <thead>\n",
              "    <tr style=\"text-align: right;\">\n",
              "      <th></th>\n",
              "      <th>headline</th>\n",
              "      <th>is_sarcastic</th>\n",
              "    </tr>\n",
              "  </thead>\n",
              "  <tbody>\n",
              "    <tr>\n",
              "      <th>0</th>\n",
              "      <td>former versace store clerk sues over secret 'b...</td>\n",
              "      <td>0</td>\n",
              "    </tr>\n",
              "    <tr>\n",
              "      <th>1</th>\n",
              "      <td>the 'roseanne' revival catches up to our thorn...</td>\n",
              "      <td>0</td>\n",
              "    </tr>\n",
              "    <tr>\n",
              "      <th>2</th>\n",
              "      <td>mom starting to fear son's web series closest ...</td>\n",
              "      <td>1</td>\n",
              "    </tr>\n",
              "    <tr>\n",
              "      <th>3</th>\n",
              "      <td>boehner just wants wife to listen, not come up...</td>\n",
              "      <td>1</td>\n",
              "    </tr>\n",
              "    <tr>\n",
              "      <th>4</th>\n",
              "      <td>j.k. rowling wishes snape happy birthday in th...</td>\n",
              "      <td>0</td>\n",
              "    </tr>\n",
              "  </tbody>\n",
              "</table>\n",
              "</div>"
            ],
            "text/plain": [
              "                                            headline  is_sarcastic\n",
              "0  former versace store clerk sues over secret 'b...             0\n",
              "1  the 'roseanne' revival catches up to our thorn...             0\n",
              "2  mom starting to fear son's web series closest ...             1\n",
              "3  boehner just wants wife to listen, not come up...             1\n",
              "4  j.k. rowling wishes snape happy birthday in th...             0"
            ]
          },
          "metadata": {
            "tags": []
          },
          "execution_count": 6
        }
      ]
    },
    {
      "cell_type": "markdown",
      "metadata": {
        "id": "D0h6IOxU8OdH"
      },
      "source": [
        "### Get length of each headline and add a column for that (3 Marks)"
      ]
    },
    {
      "cell_type": "code",
      "metadata": {
        "id": "6NMiWa0R_X4M"
      },
      "source": [
        "headline_len = [len(x) for x in data.headline]\n",
        "#headline_len"
      ],
      "execution_count": null,
      "outputs": []
    },
    {
      "cell_type": "code",
      "metadata": {
        "colab": {
          "base_uri": "https://localhost:8080/",
          "height": 202
        },
        "id": "MLpiBRDmEV2l",
        "outputId": "00b951c9-550a-4698-8835-05e0f5176e7e"
      },
      "source": [
        "data[\"Headlinelen\"] = headline_len\n",
        "data.head()"
      ],
      "execution_count": null,
      "outputs": [
        {
          "output_type": "execute_result",
          "data": {
            "text/html": [
              "<div>\n",
              "<style scoped>\n",
              "    .dataframe tbody tr th:only-of-type {\n",
              "        vertical-align: middle;\n",
              "    }\n",
              "\n",
              "    .dataframe tbody tr th {\n",
              "        vertical-align: top;\n",
              "    }\n",
              "\n",
              "    .dataframe thead th {\n",
              "        text-align: right;\n",
              "    }\n",
              "</style>\n",
              "<table border=\"1\" class=\"dataframe\">\n",
              "  <thead>\n",
              "    <tr style=\"text-align: right;\">\n",
              "      <th></th>\n",
              "      <th>headline</th>\n",
              "      <th>is_sarcastic</th>\n",
              "      <th>Headlinelen</th>\n",
              "    </tr>\n",
              "  </thead>\n",
              "  <tbody>\n",
              "    <tr>\n",
              "      <th>0</th>\n",
              "      <td>former versace store clerk sues over secret 'b...</td>\n",
              "      <td>0</td>\n",
              "      <td>78</td>\n",
              "    </tr>\n",
              "    <tr>\n",
              "      <th>1</th>\n",
              "      <td>the 'roseanne' revival catches up to our thorn...</td>\n",
              "      <td>0</td>\n",
              "      <td>84</td>\n",
              "    </tr>\n",
              "    <tr>\n",
              "      <th>2</th>\n",
              "      <td>mom starting to fear son's web series closest ...</td>\n",
              "      <td>1</td>\n",
              "      <td>79</td>\n",
              "    </tr>\n",
              "    <tr>\n",
              "      <th>3</th>\n",
              "      <td>boehner just wants wife to listen, not come up...</td>\n",
              "      <td>1</td>\n",
              "      <td>84</td>\n",
              "    </tr>\n",
              "    <tr>\n",
              "      <th>4</th>\n",
              "      <td>j.k. rowling wishes snape happy birthday in th...</td>\n",
              "      <td>0</td>\n",
              "      <td>64</td>\n",
              "    </tr>\n",
              "  </tbody>\n",
              "</table>\n",
              "</div>"
            ],
            "text/plain": [
              "                                            headline  is_sarcastic  Headlinelen\n",
              "0  former versace store clerk sues over secret 'b...             0           78\n",
              "1  the 'roseanne' revival catches up to our thorn...             0           84\n",
              "2  mom starting to fear son's web series closest ...             1           79\n",
              "3  boehner just wants wife to listen, not come up...             1           84\n",
              "4  j.k. rowling wishes snape happy birthday in th...             0           64"
            ]
          },
          "metadata": {
            "tags": []
          },
          "execution_count": 8
        }
      ]
    },
    {
      "cell_type": "code",
      "metadata": {
        "colab": {
          "base_uri": "https://localhost:8080/",
          "height": 87
        },
        "id": "dT74GVryxa3D",
        "outputId": "f3f79975-9e04-4638-c01a-81afd2eb2848"
      },
      "source": [
        "print(len(data.headline[0]))\n",
        "data.is_sarcastic.value_counts()"
      ],
      "execution_count": null,
      "outputs": [
        {
          "output_type": "stream",
          "text": [
            "78\n"
          ],
          "name": "stdout"
        },
        {
          "output_type": "execute_result",
          "data": {
            "text/plain": [
              "0    14985\n",
              "1    11724\n",
              "Name: is_sarcastic, dtype: int64"
            ]
          },
          "metadata": {
            "tags": []
          },
          "execution_count": 15
        }
      ]
    },
    {
      "cell_type": "markdown",
      "metadata": {
        "id": "SMF-wjJ2aMwm"
      },
      "source": [
        "### Initialize parameter values\n",
        "- Set values for max_features, maxlen, & embedding_size\n",
        "- max_features: Number of words to take from tokenizer(most frequent words)\n",
        "- maxlen: Maximum length of each sentence to be limited to 25\n",
        "- embedding_size: size of embedding vector"
      ]
    },
    {
      "cell_type": "code",
      "metadata": {
        "id": "jPw9gAN_EV6m"
      },
      "source": [
        "max_features = 10000\n",
        "maxlen = 25\n",
        "embedding_size = 200"
      ],
      "execution_count": null,
      "outputs": []
    },
    {
      "cell_type": "code",
      "metadata": {
        "colab": {
          "base_uri": "https://localhost:8080/",
          "height": 35
        },
        "id": "igOR6RsixqxK",
        "outputId": "a2618eb9-7bbb-43ea-ef8c-5b4cbc07753c"
      },
      "source": [
        "print(data.headline[0])"
      ],
      "execution_count": null,
      "outputs": [
        {
          "output_type": "stream",
          "text": [
            "former versace store clerk sues over secret 'black code' for minority shoppers\n"
          ],
          "name": "stdout"
        }
      ]
    },
    {
      "cell_type": "markdown",
      "metadata": {
        "id": "9abSe-bM8fn9"
      },
      "source": [
        "### Apply `tensorflow.keras` Tokenizer and get indices for words (3 Marks)\n",
        "- Initialize Tokenizer object with number of words as 10000\n",
        "- Fit the tokenizer object on headline column\n",
        "- Convert the text to sequence\n"
      ]
    },
    {
      "cell_type": "code",
      "metadata": {
        "id": "y8g4l0KfF3eh"
      },
      "source": [
        "from tensorflow.keras.preprocessing.text import Tokenizer\n",
        "vocabSize = 10000\n",
        "tokenizer = Tokenizer(num_words=vocabSize, split=' ',oov_token=None)\n",
        "tokenizer.fit_on_texts(data['headline'])"
      ],
      "execution_count": null,
      "outputs": []
    },
    {
      "cell_type": "code",
      "metadata": {
        "id": "BWJbntGoFNuC"
      },
      "source": [
        "X = tokenizer.texts_to_sequences(data['headline'])"
      ],
      "execution_count": null,
      "outputs": []
    },
    {
      "cell_type": "code",
      "metadata": {
        "colab": {
          "base_uri": "https://localhost:8080/",
          "height": 191
        },
        "id": "YcpVsrtXCOUZ",
        "outputId": "522a2a29-d554-4b7e-d80d-9a82d05e5566"
      },
      "source": [
        "X[0:10]"
      ],
      "execution_count": null,
      "outputs": [
        {
          "output_type": "execute_result",
          "data": {
            "text/plain": [
              "[[307, 678, 3336, 2297, 47, 381, 2575, 5, 2576, 8433],\n",
              " [3, 8434, 3337, 2745, 21, 1, 165, 8435, 415, 3111, 5, 257, 8, 1001],\n",
              " [144, 837, 1, 906, 1748, 2092, 581, 4718, 220, 142, 38, 45, 1],\n",
              " [1484, 35, 223, 399, 1, 1831, 28, 318, 21, 9, 2923, 1392, 6968, 967],\n",
              " [766, 718, 4719, 907, 622, 593, 4, 3, 94, 1308, 91],\n",
              " [3, 364, 72],\n",
              " [3, 6969, 350, 5, 460, 4273, 2194, 1485],\n",
              " [18, 478, 38, 1167, 30, 154, 1, 98, 82, 17, 157, 5, 31, 351],\n",
              " [248, 3622, 6970, 554, 5273, 1994, 140],\n",
              " [2093, 325, 346, 400, 59, 5, 3, 3895]]"
            ]
          },
          "metadata": {
            "tags": []
          },
          "execution_count": 20
        }
      ]
    },
    {
      "cell_type": "markdown",
      "metadata": {
        "id": "xeZpwPO4bOkZ"
      },
      "source": [
        "### Pad sequences (3 Marks)\n",
        "- Pad each example with a maximum length\n",
        "- Convert target column into numpy array"
      ]
    },
    {
      "cell_type": "code",
      "metadata": {
        "id": "qV0K70E5c9Xl"
      },
      "source": [
        "from tensorflow.keras.preprocessing import sequence"
      ],
      "execution_count": null,
      "outputs": []
    },
    {
      "cell_type": "code",
      "metadata": {
        "colab": {
          "base_uri": "https://localhost:8080/",
          "height": 35
        },
        "id": "CWNhMkNvJvPk",
        "outputId": "11beb58b-6b55-4715-8c90-1a773766449e"
      },
      "source": [
        "max_len = data['Headlinelen'].max()\n",
        "max_len"
      ],
      "execution_count": null,
      "outputs": [
        {
          "output_type": "execute_result",
          "data": {
            "text/plain": [
              "254"
            ]
          },
          "metadata": {
            "tags": []
          },
          "execution_count": 22
        }
      ]
    },
    {
      "cell_type": "code",
      "metadata": {
        "id": "5aDRflaqLOAW"
      },
      "source": [
        "X= sequence.pad_sequences(X,padding='post',truncating='post',maxlen=25)"
      ],
      "execution_count": null,
      "outputs": []
    },
    {
      "cell_type": "code",
      "metadata": {
        "colab": {
          "base_uri": "https://localhost:8080/",
          "height": 87
        },
        "id": "Vbl6qJpz3MUX",
        "outputId": "21cc0206-d7de-4a7d-c898-a0e46c495b28"
      },
      "source": [
        "print(X.shape)\n",
        "X[1]"
      ],
      "execution_count": null,
      "outputs": [
        {
          "output_type": "stream",
          "text": [
            "(26709, 25)\n"
          ],
          "name": "stdout"
        },
        {
          "output_type": "execute_result",
          "data": {
            "text/plain": [
              "array([   3, 8434, 3337, 2745,   21,    1,  165, 8435,  415, 3111,    5,\n",
              "        257,    8, 1001,    0,    0,    0,    0,    0,    0,    0,    0,\n",
              "          0,    0,    0], dtype=int32)"
            ]
          },
          "metadata": {
            "tags": []
          },
          "execution_count": 24
        }
      ]
    },
    {
      "cell_type": "code",
      "metadata": {
        "id": "WnjiGt7KHM61"
      },
      "source": [
        "target = data.is_sarcastic.to_numpy()"
      ],
      "execution_count": null,
      "outputs": []
    },
    {
      "cell_type": "code",
      "metadata": {
        "colab": {
          "base_uri": "https://localhost:8080/",
          "height": 52
        },
        "id": "pPdFF0JmJFZ-",
        "outputId": "29fbdec0-e98d-4799-976d-594704bd1e45"
      },
      "source": [
        "print(target.shape)\n",
        "target[0:10]\n"
      ],
      "execution_count": null,
      "outputs": [
        {
          "output_type": "stream",
          "text": [
            "(26709,)\n"
          ],
          "name": "stdout"
        },
        {
          "output_type": "execute_result",
          "data": {
            "text/plain": [
              "array([0, 0, 1, 1, 0, 0, 0, 0, 1, 0])"
            ]
          },
          "metadata": {
            "tags": []
          },
          "execution_count": 26
        }
      ]
    },
    {
      "cell_type": "markdown",
      "metadata": {
        "id": "WJLyKg-98rH_"
      },
      "source": [
        "### Vocab mapping\n",
        "- There is no word for 0th index"
      ]
    },
    {
      "cell_type": "code",
      "metadata": {
        "id": "oWxiWULRJEFh"
      },
      "source": [
        "#tokenizer.word_index"
      ],
      "execution_count": null,
      "outputs": []
    },
    {
      "cell_type": "code",
      "metadata": {
        "id": "vCNgtnQqdbZn"
      },
      "source": [
        "word_index = tokenizer.word_index"
      ],
      "execution_count": null,
      "outputs": []
    },
    {
      "cell_type": "markdown",
      "metadata": {
        "id": "VRiNX58Rb3oJ"
      },
      "source": [
        "### Set number of words\n",
        "- Since the above 0th index doesn't have a word, add 1 to the length of the vocabulary"
      ]
    },
    {
      "cell_type": "code",
      "metadata": {
        "colab": {
          "base_uri": "https://localhost:8080/",
          "height": 35
        },
        "id": "xr_CFY8KzEf1",
        "outputId": "5dd02e93-857b-4153-edaf-53465604c1f1"
      },
      "source": [
        "word_index.get('lose')"
      ],
      "execution_count": null,
      "outputs": [
        {
          "output_type": "execute_result",
          "data": {
            "text/plain": [
              "838"
            ]
          },
          "metadata": {
            "tags": []
          },
          "execution_count": 28
        }
      ]
    },
    {
      "cell_type": "code",
      "metadata": {
        "colab": {
          "base_uri": "https://localhost:8080/",
          "height": 69
        },
        "id": "Dfwq6ou8ck2f",
        "outputId": "d4cbb9a1-a963-4596-dc84-5523156e4790"
      },
      "source": [
        "num_words = len(tokenizer.word_index) + 1\n",
        "print(num_words)\n",
        "print(tokenizer.num_words)\n",
        "#print(tokenizer.word_index.items())\n",
        "print(len(word_index) + 1)"
      ],
      "execution_count": null,
      "outputs": [
        {
          "output_type": "stream",
          "text": [
            "29657\n",
            "10000\n",
            "29657\n"
          ],
          "name": "stdout"
        }
      ]
    },
    {
      "cell_type": "markdown",
      "metadata": {
        "id": "lcEtl3ve9nmB"
      },
      "source": [
        ""
      ]
    },
    {
      "cell_type": "code",
      "metadata": {
        "id": "87nF34NJv3Ul"
      },
      "source": [
        ""
      ],
      "execution_count": null,
      "outputs": []
    },
    {
      "cell_type": "markdown",
      "metadata": {
        "id": "bUF1TuQa8ux0"
      },
      "source": [
        "### Load Glove Word Embeddings (3 Marks)"
      ]
    },
    {
      "cell_type": "markdown",
      "metadata": {
        "id": "fy74aQG6quJp"
      },
      "source": [
        "Already loaded the Glove word embedding \n"
      ]
    },
    {
      "cell_type": "markdown",
      "metadata": {
        "id": "prHSzdQUcZhm"
      },
      "source": [
        "### Create embedding matrix"
      ]
    },
    {
      "cell_type": "code",
      "metadata": {
        "colab": {
          "base_uri": "https://localhost:8080/",
          "height": 35
        },
        "id": "1ng8SK4QlzOt",
        "outputId": "46eb4fb9-6877-48f4-fea8-2410930df424"
      },
      "source": [
        "vocab_size = 10000\n",
        "embeddings_index = dict()\n",
        "f = open('./glove.6B.200d.txt')\n",
        "for line in f:\n",
        "  values = line.split()\n",
        "  word = values[0]\n",
        "  coefs = np.asarray(values[1:], dtype='float32')\n",
        "  embeddings_index[word] = coefs\n",
        "f.close()\n",
        "print('Loaded %s word vectors.' % len(embeddings_index))\n",
        "\n"
      ],
      "execution_count": null,
      "outputs": [
        {
          "output_type": "stream",
          "text": [
            "Loaded 400000 word vectors.\n"
          ],
          "name": "stdout"
        }
      ]
    },
    {
      "cell_type": "code",
      "metadata": {
        "colab": {
          "base_uri": "https://localhost:8080/",
          "height": 35
        },
        "id": "By6lhL1eprla",
        "outputId": "1dbc0215-4e13-4703-e8b5-89decc422845"
      },
      "source": [
        "embedding_matrix = np.zeros((len(word_index) + 1, 200))\n",
        "print(embedding_matrix.shape)\n",
        "\n",
        "\n",
        "for word, i in word_index.items():\n",
        "    embedding_vector = embeddings_index.get(word)\n",
        "    if embedding_vector is not None:\n",
        "      embedding_matrix[i] = embedding_vector\n",
        "  "
      ],
      "execution_count": null,
      "outputs": [
        {
          "output_type": "stream",
          "text": [
            "(29657, 200)\n"
          ],
          "name": "stdout"
        }
      ]
    },
    {
      "cell_type": "code",
      "metadata": {
        "id": "elZ-T5aFGZmZ"
      },
      "source": [
        "#EMBEDDING_FILE = './glove.6B.200d.txt'\n",
        "\n",
        "#embeddings = {}\n",
        "#for o in open(EMBEDDING_FILE):\n",
        "#    word = o.split(\" \")[0]\n",
        "   # print(word)\n",
        "#   embd = o.split(\" \")[1:]\n",
        "#  embd = np.asarray(embd, dtype='float32')\n",
        "    # print(embd)\n",
        "#    embeddings[word] = embd\n",
        "\n",
        "# create a weight matrix for words in training docs\n",
        "#embedding_matrix = np.zeros((num_words, 200))\n",
        "\n",
        "##\tembedding_vector = embeddings.get(word)\n",
        "##\t\tembedding_matrix[i] = embedding_vector"
      ],
      "execution_count": null,
      "outputs": []
    },
    {
      "cell_type": "markdown",
      "metadata": {
        "id": "u7IbWuEX82Ra"
      },
      "source": [
        "### Define model (5 Marks)\n",
        "- Hint: Use Sequential model instance and then add Embedding layer, Bidirectional(LSTM) layer, then dense and dropout layers as required. \n",
        "In the end add a final dense layer with sigmoid activation for binary classification."
      ]
    },
    {
      "cell_type": "code",
      "metadata": {
        "id": "4tv168Gmc3PY"
      },
      "source": [
        "from tensorflow.keras.models import Sequential\n",
        "from tensorflow.keras.layers import LSTM, Embedding, Dense, TimeDistributed, Dropout, Bidirectional, Lambda, Flatten, Input, Add\n"
      ],
      "execution_count": null,
      "outputs": []
    },
    {
      "cell_type": "code",
      "metadata": {
        "id": "A6_dw8DD1k2o"
      },
      "source": [
        "lstm_out = 64\n",
        "model_1 = Sequential()\n",
        "model_1.add(Embedding(num_words, embedding_size,weights=[embedding_matrix],input_length = 25,trainable=False))\n",
        "\n",
        "model_1.add(Bidirectional(LSTM(lstm_out, return_sequences=True)))\n",
        "#model_1.add((LSTM(lstm_out, return_sequences=True)))\n",
        "model_1.add(Flatten())\n",
        "model_1.add(Dense(32, activation='relu'))\n",
        "model_1.add(Dropout(0.5))\n",
        "model_1.add(Dense(1, activation='sigmoid'))\n",
        "\n"
      ],
      "execution_count": null,
      "outputs": []
    },
    {
      "cell_type": "markdown",
      "metadata": {
        "id": "xoI7_8Y1cqTj"
      },
      "source": [
        "### Compile the model (3 Marks)"
      ]
    },
    {
      "cell_type": "code",
      "metadata": {
        "id": "-jJiPHeNoJ3U"
      },
      "source": [
        "model_1.compile(loss='binary_crossentropy', optimizer='adam', metrics=['accuracy'])"
      ],
      "execution_count": null,
      "outputs": []
    },
    {
      "cell_type": "code",
      "metadata": {
        "colab": {
          "base_uri": "https://localhost:8080/",
          "height": 364
        },
        "id": "5lOOoSNrCivB",
        "outputId": "083e80f2-00b3-4c3c-bacb-d56bfa9884dc"
      },
      "source": [
        "model_1.summary()"
      ],
      "execution_count": null,
      "outputs": [
        {
          "output_type": "stream",
          "text": [
            "Model: \"sequential_1\"\n",
            "_________________________________________________________________\n",
            "Layer (type)                 Output Shape              Param #   \n",
            "=================================================================\n",
            "embedding_1 (Embedding)      (None, 25, 200)           5931400   \n",
            "_________________________________________________________________\n",
            "bidirectional_1 (Bidirection (None, 25, 128)           135680    \n",
            "_________________________________________________________________\n",
            "flatten_1 (Flatten)          (None, 3200)              0         \n",
            "_________________________________________________________________\n",
            "dense_2 (Dense)              (None, 32)                102432    \n",
            "_________________________________________________________________\n",
            "dropout_1 (Dropout)          (None, 32)                0         \n",
            "_________________________________________________________________\n",
            "dense_3 (Dense)              (None, 1)                 33        \n",
            "=================================================================\n",
            "Total params: 6,169,545\n",
            "Trainable params: 238,145\n",
            "Non-trainable params: 5,931,400\n",
            "_________________________________________________________________\n"
          ],
          "name": "stdout"
        }
      ]
    },
    {
      "cell_type": "markdown",
      "metadata": {
        "id": "7s4nmqcecw3a"
      },
      "source": [
        "### Fit the model (4 Marks)"
      ]
    },
    {
      "cell_type": "code",
      "metadata": {
        "id": "NN789zNnJ5PL"
      },
      "source": [
        "from sklearn.model_selection import train_test_split"
      ],
      "execution_count": null,
      "outputs": []
    },
    {
      "cell_type": "code",
      "metadata": {
        "id": "Lqh17DGdDl5B"
      },
      "source": [
        "X_train, X_test, y_train, y_test = train_test_split(X, target, test_size=0.30, random_state=42)"
      ],
      "execution_count": null,
      "outputs": []
    },
    {
      "cell_type": "code",
      "metadata": {
        "colab": {
          "base_uri": "https://localhost:8080/",
          "height": 87
        },
        "id": "7c8GLYmNDmf1",
        "outputId": "fd0fbc48-8476-4da8-da7b-67e098e319a6"
      },
      "source": [
        "print(X_train.shape)\n",
        "print(y_train.shape)\n",
        "print(X_test.shape)\n",
        "print(y_test.shape)"
      ],
      "execution_count": null,
      "outputs": [
        {
          "output_type": "stream",
          "text": [
            "(18696, 25)\n",
            "(18696,)\n",
            "(8013, 25)\n",
            "(8013,)\n"
          ],
          "name": "stdout"
        }
      ]
    },
    {
      "cell_type": "code",
      "metadata": {
        "colab": {
          "base_uri": "https://localhost:8080/",
          "height": 52
        },
        "id": "QCZArBHwD40r",
        "outputId": "cd8c98c6-3829-4709-cedf-b0ae6006b66d"
      },
      "source": [
        "print(X.shape)\n",
        "print(target.shape)"
      ],
      "execution_count": null,
      "outputs": [
        {
          "output_type": "stream",
          "text": [
            "(26709, 25)\n",
            "(26709,)\n"
          ],
          "name": "stdout"
        }
      ]
    },
    {
      "cell_type": "code",
      "metadata": {
        "colab": {
          "base_uri": "https://localhost:8080/",
          "height": 711
        },
        "id": "bAXklNRTECFA",
        "outputId": "2b870b0b-f0e0-4b2f-97a9-95bea6b6a7a4"
      },
      "source": [
        "from tensorflow.keras.callbacks import  EarlyStopping, ReduceLROnPlateau\n",
        "batch_size =200\n",
        "stop = EarlyStopping(monitor=\"loss\", patience=5, mode=\"min\")\n",
        "history =model_1.fit(X_train , y_train, epochs = 20, batch_size=batch_size,callbacks=[stop], verbose = 2,validation_split=.2)\n"
      ],
      "execution_count": null,
      "outputs": [
        {
          "output_type": "stream",
          "text": [
            "Epoch 1/20\n",
            "75/75 - 1s - loss: 0.5714 - accuracy: 0.6910 - val_loss: 0.4894 - val_accuracy: 0.7540\n",
            "Epoch 2/20\n",
            "75/75 - 1s - loss: 0.4307 - accuracy: 0.8068 - val_loss: 0.3914 - val_accuracy: 0.8227\n",
            "Epoch 3/20\n",
            "75/75 - 1s - loss: 0.3639 - accuracy: 0.8431 - val_loss: 0.3613 - val_accuracy: 0.8385\n",
            "Epoch 4/20\n",
            "75/75 - 1s - loss: 0.3171 - accuracy: 0.8658 - val_loss: 0.3551 - val_accuracy: 0.8457\n",
            "Epoch 5/20\n",
            "75/75 - 1s - loss: 0.2710 - accuracy: 0.8903 - val_loss: 0.3652 - val_accuracy: 0.8473\n",
            "Epoch 6/20\n",
            "75/75 - 1s - loss: 0.2432 - accuracy: 0.9019 - val_loss: 0.3866 - val_accuracy: 0.8283\n",
            "Epoch 7/20\n",
            "75/75 - 1s - loss: 0.2092 - accuracy: 0.9174 - val_loss: 0.3880 - val_accuracy: 0.8529\n",
            "Epoch 8/20\n",
            "75/75 - 1s - loss: 0.1739 - accuracy: 0.9323 - val_loss: 0.3690 - val_accuracy: 0.8580\n",
            "Epoch 9/20\n",
            "75/75 - 1s - loss: 0.1525 - accuracy: 0.9436 - val_loss: 0.4323 - val_accuracy: 0.8535\n",
            "Epoch 10/20\n",
            "75/75 - 1s - loss: 0.1205 - accuracy: 0.9551 - val_loss: 0.5340 - val_accuracy: 0.8492\n",
            "Epoch 11/20\n",
            "75/75 - 1s - loss: 0.0972 - accuracy: 0.9628 - val_loss: 0.5148 - val_accuracy: 0.8521\n",
            "Epoch 12/20\n",
            "75/75 - 1s - loss: 0.0884 - accuracy: 0.9678 - val_loss: 0.5333 - val_accuracy: 0.8479\n",
            "Epoch 13/20\n",
            "75/75 - 1s - loss: 0.0627 - accuracy: 0.9767 - val_loss: 0.6214 - val_accuracy: 0.8495\n",
            "Epoch 14/20\n",
            "75/75 - 1s - loss: 0.0718 - accuracy: 0.9727 - val_loss: 0.6295 - val_accuracy: 0.8503\n",
            "Epoch 15/20\n",
            "75/75 - 1s - loss: 0.0445 - accuracy: 0.9846 - val_loss: 0.6954 - val_accuracy: 0.8521\n",
            "Epoch 16/20\n",
            "75/75 - 1s - loss: 0.0393 - accuracy: 0.9866 - val_loss: 0.8221 - val_accuracy: 0.8361\n",
            "Epoch 17/20\n",
            "75/75 - 1s - loss: 0.0412 - accuracy: 0.9844 - val_loss: 0.7451 - val_accuracy: 0.8452\n",
            "Epoch 18/20\n",
            "75/75 - 1s - loss: 0.0337 - accuracy: 0.9883 - val_loss: 0.8312 - val_accuracy: 0.8516\n",
            "Epoch 19/20\n",
            "75/75 - 1s - loss: 0.0228 - accuracy: 0.9923 - val_loss: 0.8258 - val_accuracy: 0.8548\n",
            "Epoch 20/20\n",
            "75/75 - 1s - loss: 0.0195 - accuracy: 0.9936 - val_loss: 0.8520 - val_accuracy: 0.8495\n"
          ],
          "name": "stdout"
        }
      ]
    },
    {
      "cell_type": "code",
      "metadata": {
        "id": "XqFzU7sZFW4F"
      },
      "source": [
        "y_test_predict = model_1.predict(X_test)\n",
        "y_train_predict = model_1.predict(X_train)"
      ],
      "execution_count": null,
      "outputs": []
    },
    {
      "cell_type": "code",
      "metadata": {
        "colab": {
          "base_uri": "https://localhost:8080/",
          "height": 69
        },
        "id": "LNJ5cx7yH3Qk",
        "outputId": "056cc845-d7ce-4c0a-c0fa-8ebec65c3611"
      },
      "source": [
        "score,acc = model_1.evaluate(X_test, y_test, verbose = 2, batch_size = batch_size)\n",
        "print(\"score: %.2f\" % (score))\n",
        "print(\"acc: %.2f\" % (acc))"
      ],
      "execution_count": null,
      "outputs": [
        {
          "output_type": "stream",
          "text": [
            "41/41 - 0s - loss: 0.8697 - accuracy: 0.8455\n",
            "score: 0.87\n",
            "acc: 0.85\n"
          ],
          "name": "stdout"
        }
      ]
    },
    {
      "cell_type": "code",
      "metadata": {
        "colab": {
          "base_uri": "https://localhost:8080/",
          "height": 35
        },
        "id": "miDbSp7OH9oO",
        "outputId": "77e1db81-baf2-4671-c040-70e1641fcbcc"
      },
      "source": [
        "print(\"Predict:\",y_test_predict[0], \"Actual \" ,(y_test[0]))"
      ],
      "execution_count": null,
      "outputs": [
        {
          "output_type": "stream",
          "text": [
            "Predict: [1.] Actual  1\n"
          ],
          "name": "stdout"
        }
      ]
    },
    {
      "cell_type": "code",
      "metadata": {
        "colab": {
          "base_uri": "https://localhost:8080/",
          "height": 69
        },
        "id": "MNarmf3oxAZT",
        "outputId": "4616bc44-1152-483b-a5de-cc6f5ea4e67f"
      },
      "source": [
        "score,acc = model_1.evaluate(X_train, y_train, verbose = 2, batch_size = batch_size)\n",
        "print(\"score: %.2f\" % (score))\n",
        "print(\"acc: %.2f\" % (acc))"
      ],
      "execution_count": null,
      "outputs": [
        {
          "output_type": "stream",
          "text": [
            "94/94 - 0s - loss: 0.1786 - accuracy: 0.9679\n",
            "score: 0.18\n",
            "acc: 0.97\n"
          ],
          "name": "stdout"
        }
      ]
    },
    {
      "cell_type": "code",
      "metadata": {
        "colab": {
          "base_uri": "https://localhost:8080/",
          "height": 250
        },
        "id": "Nx15S27AIwVo",
        "outputId": "273e0fa0-5cd4-46ca-d34f-6e6485312472"
      },
      "source": [
        "df_m=pd.DataFrame(history.history)\n",
        "df_m['Epoch']=range(1,21)\n",
        "\n",
        "df_m.index=df_m['Epoch']\n",
        "print(df_m.shape)\n",
        "df_m.head()"
      ],
      "execution_count": null,
      "outputs": [
        {
          "output_type": "stream",
          "text": [
            "(20, 5)\n"
          ],
          "name": "stdout"
        },
        {
          "output_type": "execute_result",
          "data": {
            "text/html": [
              "<div>\n",
              "<style scoped>\n",
              "    .dataframe tbody tr th:only-of-type {\n",
              "        vertical-align: middle;\n",
              "    }\n",
              "\n",
              "    .dataframe tbody tr th {\n",
              "        vertical-align: top;\n",
              "    }\n",
              "\n",
              "    .dataframe thead th {\n",
              "        text-align: right;\n",
              "    }\n",
              "</style>\n",
              "<table border=\"1\" class=\"dataframe\">\n",
              "  <thead>\n",
              "    <tr style=\"text-align: right;\">\n",
              "      <th></th>\n",
              "      <th>loss</th>\n",
              "      <th>accuracy</th>\n",
              "      <th>val_loss</th>\n",
              "      <th>val_accuracy</th>\n",
              "      <th>Epoch</th>\n",
              "    </tr>\n",
              "    <tr>\n",
              "      <th>Epoch</th>\n",
              "      <th></th>\n",
              "      <th></th>\n",
              "      <th></th>\n",
              "      <th></th>\n",
              "      <th></th>\n",
              "    </tr>\n",
              "  </thead>\n",
              "  <tbody>\n",
              "    <tr>\n",
              "      <th>1</th>\n",
              "      <td>0.571387</td>\n",
              "      <td>0.691027</td>\n",
              "      <td>0.489364</td>\n",
              "      <td>0.754011</td>\n",
              "      <td>1</td>\n",
              "    </tr>\n",
              "    <tr>\n",
              "      <th>2</th>\n",
              "      <td>0.430731</td>\n",
              "      <td>0.806767</td>\n",
              "      <td>0.391370</td>\n",
              "      <td>0.822727</td>\n",
              "      <td>2</td>\n",
              "    </tr>\n",
              "    <tr>\n",
              "      <th>3</th>\n",
              "      <td>0.363885</td>\n",
              "      <td>0.843073</td>\n",
              "      <td>0.361329</td>\n",
              "      <td>0.838503</td>\n",
              "      <td>3</td>\n",
              "    </tr>\n",
              "    <tr>\n",
              "      <th>4</th>\n",
              "      <td>0.317149</td>\n",
              "      <td>0.865806</td>\n",
              "      <td>0.355126</td>\n",
              "      <td>0.845722</td>\n",
              "      <td>4</td>\n",
              "    </tr>\n",
              "    <tr>\n",
              "      <th>5</th>\n",
              "      <td>0.271027</td>\n",
              "      <td>0.890278</td>\n",
              "      <td>0.365197</td>\n",
              "      <td>0.847326</td>\n",
              "      <td>5</td>\n",
              "    </tr>\n",
              "  </tbody>\n",
              "</table>\n",
              "</div>"
            ],
            "text/plain": [
              "           loss  accuracy  val_loss  val_accuracy  Epoch\n",
              "Epoch                                                   \n",
              "1      0.571387  0.691027  0.489364      0.754011      1\n",
              "2      0.430731  0.806767  0.391370      0.822727      2\n",
              "3      0.363885  0.843073  0.361329      0.838503      3\n",
              "4      0.317149  0.865806  0.355126      0.845722      4\n",
              "5      0.271027  0.890278  0.365197      0.847326      5"
            ]
          },
          "metadata": {
            "tags": []
          },
          "execution_count": 51
        }
      ]
    },
    {
      "cell_type": "code",
      "metadata": {
        "colab": {
          "base_uri": "https://localhost:8080/",
          "height": 295
        },
        "id": "mpQWgKM5Jn8M",
        "outputId": "6f7e2a33-6977-48c8-e9a0-667bd5305e0a"
      },
      "source": [
        "import matplotlib.pyplot as plt\n",
        "plt.plot(df_m['loss'])\n",
        "plt.plot(df_m['val_loss'])\n",
        "plt.title('model loss')\n",
        "plt.ylabel('loss')\n",
        "plt.xlabel('epoch')\n",
        "plt.legend(['train_loss', 'val_loss'])\n",
        "plt.show()"
      ],
      "execution_count": null,
      "outputs": [
        {
          "output_type": "display_data",
          "data": {
            "image/png": "[encoded data removed]",
            "text/plain": [
              "<Figure size 432x288 with 1 Axes>"
            ]
          },
          "metadata": {
            "tags": [],
            "needs_background": "light"
          }
        }
      ]
    },
    {
      "cell_type": "code",
      "metadata": {
        "colab": {
          "base_uri": "https://localhost:8080/",
          "height": 295
        },
        "id": "RM57AOsoPwJ1",
        "outputId": "da46fb89-4ef4-4b0e-a641-4652047be895"
      },
      "source": [
        "plt.plot(df_m['accuracy'])\n",
        "plt.plot(df_m['val_accuracy'])\n",
        "plt.title('model accuracy')\n",
        "plt.ylabel('accuracy')\n",
        "plt.xlabel('epoch')\n",
        "plt.legend(['train_acc', 'val_acc'])\n",
        "plt.show()"
      ],
      "execution_count": null,
      "outputs": [
        {
          "output_type": "display_data",
          "data": {
            "image/png": "[encoded data removed]",
            "text/plain": [
              "<Figure size 432x288 with 1 Axes>"
            ]
          },
          "metadata": {
            "tags": [],
            "needs_background": "light"
          }
        }
      ]
    },
    {
      "cell_type": "markdown",
      "metadata": {
        "id": "p4BQPSQatYaI"
      },
      "source": [
        "This model is overfitting.Differnet glove embedding can be tried to check the performance."
      ]
    },
    {
      "cell_type": "code",
      "metadata": {
        "id": "lq6an8MFt7MS"
      },
      "source": [
        ""
      ],
      "execution_count": null,
      "outputs": []
    }
  ]
}