{
  "nbformat": 4,
  "nbformat_minor": 0,
  "metadata": {
    "colab": {
      "name": "Capstone_Project_AIML.ipynb",
      "provenance": [],
      "include_colab_link": true
    },
    "kernelspec": {
      "name": "python3",
      "display_name": "Python 3"
    }
  },
  "cells": [
    {
      "cell_type": "markdown",
      "metadata": {
        "id": "view-in-github",
        "colab_type": "text"
      },
      "source": [
        "<a href=\"https://colab.research.google.com/github/puneethkumarvydya/Capstone-Project/blob/Moutusi's-Branch/Capstone_Project_AIML.ipynb\" target=\"_parent\"><img src=\"https://colab.research.google.com/assets/colab-badge.svg\" alt=\"Open In Colab\"/></a>"
      ]
    },
    {
      "cell_type": "code",
      "metadata": {
        "id": "y50tKDXvNO0Y"
      },
      "source": [
        "import matplotlib.pyplot as plt\n",
        "import tensorflow\n",
        "tensorflow.__version__\n",
        "import os\n",
        "import pandas as pd\n",
        "import numpy as np\n"
      ],
      "execution_count": 1,
      "outputs": []
    },
    {
      "cell_type": "code",
      "metadata": {
        "id": "Nl2MPPhyRWj0",
        "outputId": "e2403565-af2f-4dab-a66b-699d9240e361",
        "colab": {
          "base_uri": "https://localhost:8080/"
        }
      },
      "source": [
        "from google.colab import drive\n",
        "drive.mount('/content/drive',force_remount=True)"
      ],
      "execution_count": 2,
      "outputs": [
        {
          "output_type": "stream",
          "text": [
            "Mounted at /content/drive\n"
          ],
          "name": "stdout"
        }
      ]
    },
    {
      "cell_type": "code",
      "metadata": {
        "id": "qcLvD5DzRZ-l",
        "outputId": "eec8b11b-bd13-45c1-d6f0-e0fd777c62ed",
        "colab": {
          "base_uri": "https://localhost:8080/"
        }
      },
      "source": [
        "os.chdir('/content/drive/My Drive/CapstoneProject/') \n",
        "os.listdir()"
      ],
      "execution_count": 3,
      "outputs": [
        {
          "output_type": "execute_result",
          "data": {
            "text/plain": [
              "['rsna-pneumonia-detection-challenge.zip',\n",
              " 'GCP Credits Request Link - RSNA.txt',\n",
              " 'stage_2_detailed_class_info.csv',\n",
              " 'stage_2_sample_submission.csv',\n",
              " 'stage_2_test_images',\n",
              " 'stage_2_train_images',\n",
              " 'stage_2_train_labels.csv']"
            ]
          },
          "metadata": {
            "tags": []
          },
          "execution_count": 3
        }
      ]
    },
    {
      "cell_type": "code",
      "metadata": {
        "id": "0fepb3kZsjIX",
        "outputId": "b1bce4a0-fb7a-4658-f790-5fc3c149fab3",
        "colab": {
          "base_uri": "https://localhost:8080/"
        }
      },
      "source": [
        "from pathlib import Path\n",
        "my_file = Path(\"GCP Credits Request Link - RSNA.txt\")\n",
        "if my_file.is_file():\n",
        "    print(\"File isunzipped\")\n",
        "else:\n",
        "  print(\"File is need to be zipped\")\n"
      ],
      "execution_count": 4,
      "outputs": [
        {
          "output_type": "stream",
          "text": [
            "File isunzipped\n"
          ],
          "name": "stdout"
        }
      ]
    },
    {
      "cell_type": "code",
      "metadata": {
        "id": "4TQV6y9HjJ3y",
        "outputId": "f0cdd914-2441-407c-cc41-d31aa8aec9c8",
        "colab": {
          "base_uri": "https://localhost:8080/"
        }
      },
      "source": [
        "\n",
        "from pathlib import Path\n",
        "my_file = Path(\"GCP Credits Request Link - RSNA.txt\")\n",
        "if my_file.is_file():\n",
        "    print(\"File isunzipped\")\n",
        "else:\n",
        "  print(\"File is need to be zipped\")\n",
        "  from zipfile import ZipFile\n",
        "  with ZipFile(\"rsna-pneumonia-detection-challenge.zip\",'r') as z:\n",
        "    z.extractall()\n",
        "    os.listdir()  "
      ],
      "execution_count": 7,
      "outputs": [
        {
          "output_type": "stream",
          "text": [
            "File isunzipped\n"
          ],
          "name": "stdout"
        }
      ]
    },
    {
      "cell_type": "code",
      "metadata": {
        "id": "0lzGqLl5jjtf"
      },
      "source": [
        "classinfo = pd.read_csv(\"stage_2_detailed_class_info.csv\")"
      ],
      "execution_count": 8,
      "outputs": []
    },
    {
      "cell_type": "code",
      "metadata": {
        "id": "sbfQaLxTqoOG",
        "outputId": "99646649-8547-45aa-c873-0ee26c1f40b7",
        "colab": {
          "base_uri": "https://localhost:8080/",
          "height": 202
        }
      },
      "source": [
        "classinfo.head()"
      ],
      "execution_count": 9,
      "outputs": [
        {
          "output_type": "execute_result",
          "data": {
            "text/html": [
              "<div>\n",
              "<style scoped>\n",
              "    .dataframe tbody tr th:only-of-type {\n",
              "        vertical-align: middle;\n",
              "    }\n",
              "\n",
              "    .dataframe tbody tr th {\n",
              "        vertical-align: top;\n",
              "    }\n",
              "\n",
              "    .dataframe thead th {\n",
              "        text-align: right;\n",
              "    }\n",
              "</style>\n",
              "<table border=\"1\" class=\"dataframe\">\n",
              "  <thead>\n",
              "    <tr style=\"text-align: right;\">\n",
              "      <th></th>\n",
              "      <th>patientId</th>\n",
              "      <th>class</th>\n",
              "    </tr>\n",
              "  </thead>\n",
              "  <tbody>\n",
              "    <tr>\n",
              "      <th>0</th>\n",
              "      <td>0004cfab-14fd-4e49-80ba-63a80b6bddd6</td>\n",
              "      <td>No Lung Opacity / Not Normal</td>\n",
              "    </tr>\n",
              "    <tr>\n",
              "      <th>1</th>\n",
              "      <td>00313ee0-9eaa-42f4-b0ab-c148ed3241cd</td>\n",
              "      <td>No Lung Opacity / Not Normal</td>\n",
              "    </tr>\n",
              "    <tr>\n",
              "      <th>2</th>\n",
              "      <td>00322d4d-1c29-4943-afc9-b6754be640eb</td>\n",
              "      <td>No Lung Opacity / Not Normal</td>\n",
              "    </tr>\n",
              "    <tr>\n",
              "      <th>3</th>\n",
              "      <td>003d8fa0-6bf1-40ed-b54c-ac657f8495c5</td>\n",
              "      <td>Normal</td>\n",
              "    </tr>\n",
              "    <tr>\n",
              "      <th>4</th>\n",
              "      <td>00436515-870c-4b36-a041-de91049b9ab4</td>\n",
              "      <td>Lung Opacity</td>\n",
              "    </tr>\n",
              "  </tbody>\n",
              "</table>\n",
              "</div>"
            ],
            "text/plain": [
              "                              patientId                         class\n",
              "0  0004cfab-14fd-4e49-80ba-63a80b6bddd6  No Lung Opacity / Not Normal\n",
              "1  00313ee0-9eaa-42f4-b0ab-c148ed3241cd  No Lung Opacity / Not Normal\n",
              "2  00322d4d-1c29-4943-afc9-b6754be640eb  No Lung Opacity / Not Normal\n",
              "3  003d8fa0-6bf1-40ed-b54c-ac657f8495c5                        Normal\n",
              "4  00436515-870c-4b36-a041-de91049b9ab4                  Lung Opacity"
            ]
          },
          "metadata": {
            "tags": []
          },
          "execution_count": 9
        }
      ]
    },
    {
      "cell_type": "code",
      "metadata": {
        "id": "n3KgXSH1ra4q",
        "outputId": "d0cd6514-7778-4177-ee25-757b8e8a1894",
        "colab": {
          "base_uri": "https://localhost:8080/"
        }
      },
      "source": [
        "classinfo.info()"
      ],
      "execution_count": 10,
      "outputs": [
        {
          "output_type": "stream",
          "text": [
            "<class 'pandas.core.frame.DataFrame'>\n",
            "RangeIndex: 30227 entries, 0 to 30226\n",
            "Data columns (total 2 columns):\n",
            " #   Column     Non-Null Count  Dtype \n",
            "---  ------     --------------  ----- \n",
            " 0   patientId  30227 non-null  object\n",
            " 1   class      30227 non-null  object\n",
            "dtypes: object(2)\n",
            "memory usage: 472.4+ KB\n"
          ],
          "name": "stdout"
        }
      ]
    },
    {
      "cell_type": "code",
      "metadata": {
        "id": "Rmyz7hAaroXJ",
        "outputId": "58c66a58-0a37-4a09-a84d-321b35be3bdf",
        "colab": {
          "base_uri": "https://localhost:8080/"
        }
      },
      "source": [
        "classinfo.nunique()"
      ],
      "execution_count": 11,
      "outputs": [
        {
          "output_type": "execute_result",
          "data": {
            "text/plain": [
              "patientId    26684\n",
              "class            3\n",
              "dtype: int64"
            ]
          },
          "metadata": {
            "tags": []
          },
          "execution_count": 11
        }
      ]
    },
    {
      "cell_type": "code",
      "metadata": {
        "id": "FL1beOn9r_gW"
      },
      "source": [
        "classinfo.rename(columns = {'class':'Class'}, inplace = True)"
      ],
      "execution_count": 12,
      "outputs": []
    },
    {
      "cell_type": "code",
      "metadata": {
        "id": "pGcDRQADswZt",
        "outputId": "d3699c23-416a-47a2-8c10-2a87fc26b5a4",
        "colab": {
          "base_uri": "https://localhost:8080/"
        }
      },
      "source": [
        "classinfo.Class.value_counts()"
      ],
      "execution_count": 13,
      "outputs": [
        {
          "output_type": "execute_result",
          "data": {
            "text/plain": [
              "No Lung Opacity / Not Normal    11821\n",
              "Lung Opacity                     9555\n",
              "Normal                           8851\n",
              "Name: Class, dtype: int64"
            ]
          },
          "metadata": {
            "tags": []
          },
          "execution_count": 13
        }
      ]
    },
    {
      "cell_type": "code",
      "metadata": {
        "id": "ETSi9Fq0wQWD"
      },
      "source": [
        " submission= pd.read_csv(\"stage_2_sample_submission.csv\")"
      ],
      "execution_count": 14,
      "outputs": []
    },
    {
      "cell_type": "code",
      "metadata": {
        "id": "3MTSKwnVw_Ho",
        "outputId": "35a7440b-7844-4d29-ce22-d290a318a666",
        "colab": {
          "base_uri": "https://localhost:8080/",
          "height": 202
        }
      },
      "source": [
        "submission.head()"
      ],
      "execution_count": 15,
      "outputs": [
        {
          "output_type": "execute_result",
          "data": {
            "text/html": [
              "<div>\n",
              "<style scoped>\n",
              "    .dataframe tbody tr th:only-of-type {\n",
              "        vertical-align: middle;\n",
              "    }\n",
              "\n",
              "    .dataframe tbody tr th {\n",
              "        vertical-align: top;\n",
              "    }\n",
              "\n",
              "    .dataframe thead th {\n",
              "        text-align: right;\n",
              "    }\n",
              "</style>\n",
              "<table border=\"1\" class=\"dataframe\">\n",
              "  <thead>\n",
              "    <tr style=\"text-align: right;\">\n",
              "      <th></th>\n",
              "      <th>patientId</th>\n",
              "      <th>PredictionString</th>\n",
              "    </tr>\n",
              "  </thead>\n",
              "  <tbody>\n",
              "    <tr>\n",
              "      <th>0</th>\n",
              "      <td>0000a175-0e68-4ca4-b1af-167204a7e0bc</td>\n",
              "      <td>0.5 0 0 100 100</td>\n",
              "    </tr>\n",
              "    <tr>\n",
              "      <th>1</th>\n",
              "      <td>0005d3cc-3c3f-40b9-93c3-46231c3eb813</td>\n",
              "      <td>0.5 0 0 100 100</td>\n",
              "    </tr>\n",
              "    <tr>\n",
              "      <th>2</th>\n",
              "      <td>000686d7-f4fc-448d-97a0-44fa9c5d3aa6</td>\n",
              "      <td>0.5 0 0 100 100</td>\n",
              "    </tr>\n",
              "    <tr>\n",
              "      <th>3</th>\n",
              "      <td>000e3a7d-c0ca-4349-bb26-5af2d8993c3d</td>\n",
              "      <td>0.5 0 0 100 100</td>\n",
              "    </tr>\n",
              "    <tr>\n",
              "      <th>4</th>\n",
              "      <td>00100a24-854d-423d-a092-edcf6179e061</td>\n",
              "      <td>0.5 0 0 100 100</td>\n",
              "    </tr>\n",
              "  </tbody>\n",
              "</table>\n",
              "</div>"
            ],
            "text/plain": [
              "                              patientId PredictionString\n",
              "0  0000a175-0e68-4ca4-b1af-167204a7e0bc  0.5 0 0 100 100\n",
              "1  0005d3cc-3c3f-40b9-93c3-46231c3eb813  0.5 0 0 100 100\n",
              "2  000686d7-f4fc-448d-97a0-44fa9c5d3aa6  0.5 0 0 100 100\n",
              "3  000e3a7d-c0ca-4349-bb26-5af2d8993c3d  0.5 0 0 100 100\n",
              "4  00100a24-854d-423d-a092-edcf6179e061  0.5 0 0 100 100"
            ]
          },
          "metadata": {
            "tags": []
          },
          "execution_count": 15
        }
      ]
    },
    {
      "cell_type": "code",
      "metadata": {
        "id": "j4Fw3DIexBCZ"
      },
      "source": [
        "\n",
        "train_label = pd.read_csv(\"stage_2_train_labels.csv\")"
      ],
      "execution_count": 16,
      "outputs": []
    },
    {
      "cell_type": "code",
      "metadata": {
        "id": "-E-Fp3MOxZZ4",
        "outputId": "4bd72115-3ae8-4292-ddb2-c79a0989c556",
        "colab": {
          "base_uri": "https://localhost:8080/",
          "height": 202
        }
      },
      "source": [
        "train_label.head()"
      ],
      "execution_count": 17,
      "outputs": [
        {
          "output_type": "execute_result",
          "data": {
            "text/html": [
              "<div>\n",
              "<style scoped>\n",
              "    .dataframe tbody tr th:only-of-type {\n",
              "        vertical-align: middle;\n",
              "    }\n",
              "\n",
              "    .dataframe tbody tr th {\n",
              "        vertical-align: top;\n",
              "    }\n",
              "\n",
              "    .dataframe thead th {\n",
              "        text-align: right;\n",
              "    }\n",
              "</style>\n",
              "<table border=\"1\" class=\"dataframe\">\n",
              "  <thead>\n",
              "    <tr style=\"text-align: right;\">\n",
              "      <th></th>\n",
              "      <th>patientId</th>\n",
              "      <th>x</th>\n",
              "      <th>y</th>\n",
              "      <th>width</th>\n",
              "      <th>height</th>\n",
              "      <th>Target</th>\n",
              "    </tr>\n",
              "  </thead>\n",
              "  <tbody>\n",
              "    <tr>\n",
              "      <th>0</th>\n",
              "      <td>0004cfab-14fd-4e49-80ba-63a80b6bddd6</td>\n",
              "      <td>NaN</td>\n",
              "      <td>NaN</td>\n",
              "      <td>NaN</td>\n",
              "      <td>NaN</td>\n",
              "      <td>0</td>\n",
              "    </tr>\n",
              "    <tr>\n",
              "      <th>1</th>\n",
              "      <td>00313ee0-9eaa-42f4-b0ab-c148ed3241cd</td>\n",
              "      <td>NaN</td>\n",
              "      <td>NaN</td>\n",
              "      <td>NaN</td>\n",
              "      <td>NaN</td>\n",
              "      <td>0</td>\n",
              "    </tr>\n",
              "    <tr>\n",
              "      <th>2</th>\n",
              "      <td>00322d4d-1c29-4943-afc9-b6754be640eb</td>\n",
              "      <td>NaN</td>\n",
              "      <td>NaN</td>\n",
              "      <td>NaN</td>\n",
              "      <td>NaN</td>\n",
              "      <td>0</td>\n",
              "    </tr>\n",
              "    <tr>\n",
              "      <th>3</th>\n",
              "      <td>003d8fa0-6bf1-40ed-b54c-ac657f8495c5</td>\n",
              "      <td>NaN</td>\n",
              "      <td>NaN</td>\n",
              "      <td>NaN</td>\n",
              "      <td>NaN</td>\n",
              "      <td>0</td>\n",
              "    </tr>\n",
              "    <tr>\n",
              "      <th>4</th>\n",
              "      <td>00436515-870c-4b36-a041-de91049b9ab4</td>\n",
              "      <td>264.0</td>\n",
              "      <td>152.0</td>\n",
              "      <td>213.0</td>\n",
              "      <td>379.0</td>\n",
              "      <td>1</td>\n",
              "    </tr>\n",
              "  </tbody>\n",
              "</table>\n",
              "</div>"
            ],
            "text/plain": [
              "                              patientId      x      y  width  height  Target\n",
              "0  0004cfab-14fd-4e49-80ba-63a80b6bddd6    NaN    NaN    NaN     NaN       0\n",
              "1  00313ee0-9eaa-42f4-b0ab-c148ed3241cd    NaN    NaN    NaN     NaN       0\n",
              "2  00322d4d-1c29-4943-afc9-b6754be640eb    NaN    NaN    NaN     NaN       0\n",
              "3  003d8fa0-6bf1-40ed-b54c-ac657f8495c5    NaN    NaN    NaN     NaN       0\n",
              "4  00436515-870c-4b36-a041-de91049b9ab4  264.0  152.0  213.0   379.0       1"
            ]
          },
          "metadata": {
            "tags": []
          },
          "execution_count": 17
        }
      ]
    },
    {
      "cell_type": "code",
      "metadata": {
        "id": "of9jt8FB39xO",
        "outputId": "296dcb5a-65de-43a4-8caa-c5bc6a04a6b3",
        "colab": {
          "base_uri": "https://localhost:8080/"
        }
      },
      "source": [
        "train_label.Target.value_counts()"
      ],
      "execution_count": 39,
      "outputs": [
        {
          "output_type": "execute_result",
          "data": {
            "text/plain": [
              "0    20672\n",
              "1     9555\n",
              "Name: Target, dtype: int64"
            ]
          },
          "metadata": {
            "tags": []
          },
          "execution_count": 39
        }
      ]
    },
    {
      "cell_type": "code",
      "metadata": {
        "id": "utJTCzwYrBZK",
        "outputId": "a2ff3ecf-5ec8-46b0-f07b-f4856a7ed5a1",
        "colab": {
          "base_uri": "https://localhost:8080/"
        }
      },
      "source": [
        "train_label.info()"
      ],
      "execution_count": 18,
      "outputs": [
        {
          "output_type": "stream",
          "text": [
            "<class 'pandas.core.frame.DataFrame'>\n",
            "RangeIndex: 30227 entries, 0 to 30226\n",
            "Data columns (total 6 columns):\n",
            " #   Column     Non-Null Count  Dtype  \n",
            "---  ------     --------------  -----  \n",
            " 0   patientId  30227 non-null  object \n",
            " 1   x          9555 non-null   float64\n",
            " 2   y          9555 non-null   float64\n",
            " 3   width      9555 non-null   float64\n",
            " 4   height     9555 non-null   float64\n",
            " 5   Target     30227 non-null  int64  \n",
            "dtypes: float64(4), int64(1), object(1)\n",
            "memory usage: 1.4+ MB\n"
          ],
          "name": "stdout"
        }
      ]
    },
    {
      "cell_type": "code",
      "metadata": {
        "id": "j3T8Tek92tQQ",
        "outputId": "0ae2ea31-6f55-4aad-a8aa-c0231be683a6",
        "colab": {
          "base_uri": "https://localhost:8080/"
        }
      },
      "source": [
        "!pip install -q pydicom"
      ],
      "execution_count": 19,
      "outputs": [
        {
          "output_type": "stream",
          "text": [
            "\u001b[?25l\r\u001b[K     |▏                               | 10kB 22.1MB/s eta 0:00:01\r\u001b[K     |▍                               | 20kB 3.6MB/s eta 0:00:01\r\u001b[K     |▌                               | 30kB 4.7MB/s eta 0:00:01\r\u001b[K     |▊                               | 40kB 4.6MB/s eta 0:00:01\r\u001b[K     |▉                               | 51kB 4.1MB/s eta 0:00:01\r\u001b[K     |█                               | 61kB 4.4MB/s eta 0:00:01\r\u001b[K     |█▏                              | 71kB 4.8MB/s eta 0:00:01\r\u001b[K     |█▍                              | 81kB 5.1MB/s eta 0:00:01\r\u001b[K     |█▋                              | 92kB 5.5MB/s eta 0:00:01\r\u001b[K     |█▊                              | 102kB 5.3MB/s eta 0:00:01\r\u001b[K     |██                              | 112kB 5.3MB/s eta 0:00:01\r\u001b[K     |██                              | 122kB 5.3MB/s eta 0:00:01\r\u001b[K     |██▎                             | 133kB 5.3MB/s eta 0:00:01\r\u001b[K     |██▍                             | 143kB 5.3MB/s eta 0:00:01\r\u001b[K     |██▋                             | 153kB 5.3MB/s eta 0:00:01\r\u001b[K     |██▉                             | 163kB 5.3MB/s eta 0:00:01\r\u001b[K     |███                             | 174kB 5.3MB/s eta 0:00:01\r\u001b[K     |███▏                            | 184kB 5.3MB/s eta 0:00:01\r\u001b[K     |███▎                            | 194kB 5.3MB/s eta 0:00:01\r\u001b[K     |███▌                            | 204kB 5.3MB/s eta 0:00:01\r\u001b[K     |███▋                            | 215kB 5.3MB/s eta 0:00:01\r\u001b[K     |███▉                            | 225kB 5.3MB/s eta 0:00:01\r\u001b[K     |████                            | 235kB 5.3MB/s eta 0:00:01\r\u001b[K     |████▏                           | 245kB 5.3MB/s eta 0:00:01\r\u001b[K     |████▍                           | 256kB 5.3MB/s eta 0:00:01\r\u001b[K     |████▌                           | 266kB 5.3MB/s eta 0:00:01\r\u001b[K     |████▊                           | 276kB 5.3MB/s eta 0:00:01\r\u001b[K     |████▉                           | 286kB 5.3MB/s eta 0:00:01\r\u001b[K     |█████                           | 296kB 5.3MB/s eta 0:00:01\r\u001b[K     |█████▎                          | 307kB 5.3MB/s eta 0:00:01\r\u001b[K     |█████▍                          | 317kB 5.3MB/s eta 0:00:01\r\u001b[K     |█████▋                          | 327kB 5.3MB/s eta 0:00:01\r\u001b[K     |█████▊                          | 337kB 5.3MB/s eta 0:00:01\r\u001b[K     |██████                          | 348kB 5.3MB/s eta 0:00:01\r\u001b[K     |██████                          | 358kB 5.3MB/s eta 0:00:01\r\u001b[K     |██████▎                         | 368kB 5.3MB/s eta 0:00:01\r\u001b[K     |██████▌                         | 378kB 5.3MB/s eta 0:00:01\r\u001b[K     |██████▋                         | 389kB 5.3MB/s eta 0:00:01\r\u001b[K     |██████▉                         | 399kB 5.3MB/s eta 0:00:01\r\u001b[K     |███████                         | 409kB 5.3MB/s eta 0:00:01\r\u001b[K     |███████▏                        | 419kB 5.3MB/s eta 0:00:01\r\u001b[K     |███████▎                        | 430kB 5.3MB/s eta 0:00:01\r\u001b[K     |███████▌                        | 440kB 5.3MB/s eta 0:00:01\r\u001b[K     |███████▊                        | 450kB 5.3MB/s eta 0:00:01\r\u001b[K     |███████▉                        | 460kB 5.3MB/s eta 0:00:01\r\u001b[K     |████████                        | 471kB 5.3MB/s eta 0:00:01\r\u001b[K     |████████▏                       | 481kB 5.3MB/s eta 0:00:01\r\u001b[K     |████████▍                       | 491kB 5.3MB/s eta 0:00:01\r\u001b[K     |████████▌                       | 501kB 5.3MB/s eta 0:00:01\r\u001b[K     |████████▊                       | 512kB 5.3MB/s eta 0:00:01\r\u001b[K     |█████████                       | 522kB 5.3MB/s eta 0:00:01\r\u001b[K     |█████████                       | 532kB 5.3MB/s eta 0:00:01\r\u001b[K     |█████████▎                      | 542kB 5.3MB/s eta 0:00:01\r\u001b[K     |█████████▍                      | 552kB 5.3MB/s eta 0:00:01\r\u001b[K     |█████████▋                      | 563kB 5.3MB/s eta 0:00:01\r\u001b[K     |█████████▊                      | 573kB 5.3MB/s eta 0:00:01\r\u001b[K     |██████████                      | 583kB 5.3MB/s eta 0:00:01\r\u001b[K     |██████████▏                     | 593kB 5.3MB/s eta 0:00:01\r\u001b[K     |██████████▎                     | 604kB 5.3MB/s eta 0:00:01\r\u001b[K     |██████████▌                     | 614kB 5.3MB/s eta 0:00:01\r\u001b[K     |██████████▋                     | 624kB 5.3MB/s eta 0:00:01\r\u001b[K     |██████████▉                     | 634kB 5.3MB/s eta 0:00:01\r\u001b[K     |███████████                     | 645kB 5.3MB/s eta 0:00:01\r\u001b[K     |███████████▏                    | 655kB 5.3MB/s eta 0:00:01\r\u001b[K     |███████████▍                    | 665kB 5.3MB/s eta 0:00:01\r\u001b[K     |███████████▌                    | 675kB 5.3MB/s eta 0:00:01\r\u001b[K     |███████████▊                    | 686kB 5.3MB/s eta 0:00:01\r\u001b[K     |███████████▉                    | 696kB 5.3MB/s eta 0:00:01\r\u001b[K     |████████████                    | 706kB 5.3MB/s eta 0:00:01\r\u001b[K     |████████████▏                   | 716kB 5.3MB/s eta 0:00:01\r\u001b[K     |████████████▍                   | 727kB 5.3MB/s eta 0:00:01\r\u001b[K     |████████████▋                   | 737kB 5.3MB/s eta 0:00:01\r\u001b[K     |████████████▊                   | 747kB 5.3MB/s eta 0:00:01\r\u001b[K     |█████████████                   | 757kB 5.3MB/s eta 0:00:01\r\u001b[K     |█████████████                   | 768kB 5.3MB/s eta 0:00:01\r\u001b[K     |█████████████▎                  | 778kB 5.3MB/s eta 0:00:01\r\u001b[K     |█████████████▍                  | 788kB 5.3MB/s eta 0:00:01\r\u001b[K     |█████████████▋                  | 798kB 5.3MB/s eta 0:00:01\r\u001b[K     |█████████████▉                  | 808kB 5.3MB/s eta 0:00:01\r\u001b[K     |██████████████                  | 819kB 5.3MB/s eta 0:00:01\r\u001b[K     |██████████████▏                 | 829kB 5.3MB/s eta 0:00:01\r\u001b[K     |██████████████▎                 | 839kB 5.3MB/s eta 0:00:01\r\u001b[K     |██████████████▌                 | 849kB 5.3MB/s eta 0:00:01\r\u001b[K     |██████████████▋                 | 860kB 5.3MB/s eta 0:00:01\r\u001b[K     |██████████████▉                 | 870kB 5.3MB/s eta 0:00:01\r\u001b[K     |███████████████                 | 880kB 5.3MB/s eta 0:00:01\r\u001b[K     |███████████████▏                | 890kB 5.3MB/s eta 0:00:01\r\u001b[K     |███████████████▍                | 901kB 5.3MB/s eta 0:00:01\r\u001b[K     |███████████████▌                | 911kB 5.3MB/s eta 0:00:01\r\u001b[K     |███████████████▊                | 921kB 5.3MB/s eta 0:00:01\r\u001b[K     |███████████████▉                | 931kB 5.3MB/s eta 0:00:01\r\u001b[K     |████████████████                | 942kB 5.3MB/s eta 0:00:01\r\u001b[K     |████████████████▎               | 952kB 5.3MB/s eta 0:00:01\r\u001b[K     |████████████████▍               | 962kB 5.3MB/s eta 0:00:01\r\u001b[K     |████████████████▋               | 972kB 5.3MB/s eta 0:00:01\r\u001b[K     |████████████████▊               | 983kB 5.3MB/s eta 0:00:01\r\u001b[K     |█████████████████               | 993kB 5.3MB/s eta 0:00:01\r\u001b[K     |█████████████████               | 1.0MB 5.3MB/s eta 0:00:01\r\u001b[K     |█████████████████▎              | 1.0MB 5.3MB/s eta 0:00:01\r\u001b[K     |█████████████████▌              | 1.0MB 5.3MB/s eta 0:00:01\r\u001b[K     |█████████████████▋              | 1.0MB 5.3MB/s eta 0:00:01\r\u001b[K     |█████████████████▉              | 1.0MB 5.3MB/s eta 0:00:01\r\u001b[K     |██████████████████              | 1.1MB 5.3MB/s eta 0:00:01\r\u001b[K     |██████████████████▏             | 1.1MB 5.3MB/s eta 0:00:01\r\u001b[K     |██████████████████▎             | 1.1MB 5.3MB/s eta 0:00:01\r\u001b[K     |██████████████████▌             | 1.1MB 5.3MB/s eta 0:00:01\r\u001b[K     |██████████████████▊             | 1.1MB 5.3MB/s eta 0:00:01\r\u001b[K     |██████████████████▉             | 1.1MB 5.3MB/s eta 0:00:01\r\u001b[K     |███████████████████             | 1.1MB 5.3MB/s eta 0:00:01\r\u001b[K     |███████████████████▏            | 1.1MB 5.3MB/s eta 0:00:01\r\u001b[K     |███████████████████▍            | 1.1MB 5.3MB/s eta 0:00:01\r\u001b[K     |███████████████████▌            | 1.1MB 5.3MB/s eta 0:00:01\r\u001b[K     |███████████████████▊            | 1.2MB 5.3MB/s eta 0:00:01\r\u001b[K     |████████████████████            | 1.2MB 5.3MB/s eta 0:00:01\r\u001b[K     |████████████████████            | 1.2MB 5.3MB/s eta 0:00:01\r\u001b[K     |████████████████████▎           | 1.2MB 5.3MB/s eta 0:00:01\r\u001b[K     |████████████████████▍           | 1.2MB 5.3MB/s eta 0:00:01\r\u001b[K     |████████████████████▋           | 1.2MB 5.3MB/s eta 0:00:01\r\u001b[K     |████████████████████▊           | 1.2MB 5.3MB/s eta 0:00:01\r\u001b[K     |█████████████████████           | 1.2MB 5.3MB/s eta 0:00:01\r\u001b[K     |█████████████████████▏          | 1.2MB 5.3MB/s eta 0:00:01\r\u001b[K     |█████████████████████▎          | 1.2MB 5.3MB/s eta 0:00:01\r\u001b[K     |█████████████████████▌          | 1.3MB 5.3MB/s eta 0:00:01\r\u001b[K     |█████████████████████▋          | 1.3MB 5.3MB/s eta 0:00:01\r\u001b[K     |█████████████████████▉          | 1.3MB 5.3MB/s eta 0:00:01\r\u001b[K     |██████████████████████          | 1.3MB 5.3MB/s eta 0:00:01\r\u001b[K     |██████████████████████▏         | 1.3MB 5.3MB/s eta 0:00:01\r\u001b[K     |██████████████████████▍         | 1.3MB 5.3MB/s eta 0:00:01\r\u001b[K     |██████████████████████▌         | 1.3MB 5.3MB/s eta 0:00:01\r\u001b[K     |██████████████████████▊         | 1.3MB 5.3MB/s eta 0:00:01\r\u001b[K     |██████████████████████▉         | 1.3MB 5.3MB/s eta 0:00:01\r\u001b[K     |███████████████████████         | 1.4MB 5.3MB/s eta 0:00:01\r\u001b[K     |███████████████████████▏        | 1.4MB 5.3MB/s eta 0:00:01\r\u001b[K     |███████████████████████▍        | 1.4MB 5.3MB/s eta 0:00:01\r\u001b[K     |███████████████████████▋        | 1.4MB 5.3MB/s eta 0:00:01\r\u001b[K     |███████████████████████▊        | 1.4MB 5.3MB/s eta 0:00:01\r\u001b[K     |████████████████████████        | 1.4MB 5.3MB/s eta 0:00:01\r\u001b[K     |████████████████████████        | 1.4MB 5.3MB/s eta 0:00:01\r\u001b[K     |████████████████████████▎       | 1.4MB 5.3MB/s eta 0:00:01\r\u001b[K     |████████████████████████▍       | 1.4MB 5.3MB/s eta 0:00:01\r\u001b[K     |████████████████████████▋       | 1.4MB 5.3MB/s eta 0:00:01\r\u001b[K     |████████████████████████▉       | 1.5MB 5.3MB/s eta 0:00:01\r\u001b[K     |█████████████████████████       | 1.5MB 5.3MB/s eta 0:00:01\r\u001b[K     |█████████████████████████▏      | 1.5MB 5.3MB/s eta 0:00:01\r\u001b[K     |█████████████████████████▎      | 1.5MB 5.3MB/s eta 0:00:01\r\u001b[K     |█████████████████████████▌      | 1.5MB 5.3MB/s eta 0:00:01\r\u001b[K     |█████████████████████████▋      | 1.5MB 5.3MB/s eta 0:00:01\r\u001b[K     |█████████████████████████▉      | 1.5MB 5.3MB/s eta 0:00:01\r\u001b[K     |██████████████████████████      | 1.5MB 5.3MB/s eta 0:00:01\r\u001b[K     |██████████████████████████▏     | 1.5MB 5.3MB/s eta 0:00:01\r\u001b[K     |██████████████████████████▍     | 1.5MB 5.3MB/s eta 0:00:01\r\u001b[K     |██████████████████████████▌     | 1.6MB 5.3MB/s eta 0:00:01\r\u001b[K     |██████████████████████████▊     | 1.6MB 5.3MB/s eta 0:00:01\r\u001b[K     |██████████████████████████▉     | 1.6MB 5.3MB/s eta 0:00:01\r\u001b[K     |███████████████████████████     | 1.6MB 5.3MB/s eta 0:00:01\r\u001b[K     |███████████████████████████▎    | 1.6MB 5.3MB/s eta 0:00:01\r\u001b[K     |███████████████████████████▍    | 1.6MB 5.3MB/s eta 0:00:01\r\u001b[K     |███████████████████████████▋    | 1.6MB 5.3MB/s eta 0:00:01\r\u001b[K     |███████████████████████████▊    | 1.6MB 5.3MB/s eta 0:00:01\r\u001b[K     |████████████████████████████    | 1.6MB 5.3MB/s eta 0:00:01\r\u001b[K     |████████████████████████████    | 1.6MB 5.3MB/s eta 0:00:01\r\u001b[K     |████████████████████████████▎   | 1.7MB 5.3MB/s eta 0:00:01\r\u001b[K     |████████████████████████████▌   | 1.7MB 5.3MB/s eta 0:00:01\r\u001b[K     |████████████████████████████▋   | 1.7MB 5.3MB/s eta 0:00:01\r\u001b[K     |████████████████████████████▉   | 1.7MB 5.3MB/s eta 0:00:01\r\u001b[K     |█████████████████████████████   | 1.7MB 5.3MB/s eta 0:00:01\r\u001b[K     |█████████████████████████████▏  | 1.7MB 5.3MB/s eta 0:00:01\r\u001b[K     |█████████████████████████████▎  | 1.7MB 5.3MB/s eta 0:00:01\r\u001b[K     |█████████████████████████████▌  | 1.7MB 5.3MB/s eta 0:00:01\r\u001b[K     |█████████████████████████████▊  | 1.7MB 5.3MB/s eta 0:00:01\r\u001b[K     |█████████████████████████████▉  | 1.8MB 5.3MB/s eta 0:00:01\r\u001b[K     |██████████████████████████████  | 1.8MB 5.3MB/s eta 0:00:01\r\u001b[K     |██████████████████████████████▏ | 1.8MB 5.3MB/s eta 0:00:01\r\u001b[K     |██████████████████████████████▍ | 1.8MB 5.3MB/s eta 0:00:01\r\u001b[K     |██████████████████████████████▌ | 1.8MB 5.3MB/s eta 0:00:01\r\u001b[K     |██████████████████████████████▊ | 1.8MB 5.3MB/s eta 0:00:01\r\u001b[K     |███████████████████████████████ | 1.8MB 5.3MB/s eta 0:00:01\r\u001b[K     |███████████████████████████████ | 1.8MB 5.3MB/s eta 0:00:01\r\u001b[K     |███████████████████████████████▎| 1.8MB 5.3MB/s eta 0:00:01\r\u001b[K     |███████████████████████████████▍| 1.8MB 5.3MB/s eta 0:00:01\r\u001b[K     |███████████████████████████████▋| 1.9MB 5.3MB/s eta 0:00:01\r\u001b[K     |███████████████████████████████▊| 1.9MB 5.3MB/s eta 0:00:01\r\u001b[K     |████████████████████████████████| 1.9MB 5.3MB/s eta 0:00:01\r\u001b[K     |████████████████████████████████| 1.9MB 5.3MB/s \n",
            "\u001b[?25h"
          ],
          "name": "stdout"
        }
      ]
    },
    {
      "cell_type": "code",
      "metadata": {
        "id": "xmD-kfXaxdEd"
      },
      "source": [
        "import matplotlib.pyplot as plt\n",
        "import matplotlib.patches as patches\n",
        "import pydicom as dicom"
      ],
      "execution_count": 20,
      "outputs": []
    },
    {
      "cell_type": "code",
      "metadata": {
        "id": "HdlHkVJU2m3y",
        "outputId": "52ee8c21-2306-4c7d-eae0-8f89996923d1",
        "colab": {
          "base_uri": "https://localhost:8080/"
        }
      },
      "source": [
        "DIR_test='./stage_2_test_images'\n",
        "onlyfiles = next(os.walk(DIR_test))[2] #dir is your directory path as string\n",
        "print (\"Total test images:\",len(onlyfiles))"
      ],
      "execution_count": 21,
      "outputs": [
        {
          "output_type": "stream",
          "text": [
            "Total test images: 3000\n"
          ],
          "name": "stdout"
        }
      ]
    },
    {
      "cell_type": "code",
      "metadata": {
        "id": "VBqoxc_KlP4X",
        "outputId": "d5734b89-461a-4ada-dfbc-f8bbc8b5f147",
        "colab": {
          "base_uri": "https://localhost:8080/"
        }
      },
      "source": [
        "DIR_train='./stage_2_train_images'\n",
        "onlyfiles = next(os.walk(DIR_train))[2] #dir is your directory path as string\n",
        "print (\"Total training images:\",len(onlyfiles))"
      ],
      "execution_count": 22,
      "outputs": [
        {
          "output_type": "stream",
          "text": [
            "Total training images: 26684\n"
          ],
          "name": "stdout"
        }
      ]
    },
    {
      "cell_type": "code",
      "metadata": {
        "id": "YBPjoVnTtf0s"
      },
      "source": [
        "#os.listdir(path=DIR_test)"
      ],
      "execution_count": 24,
      "outputs": []
    },
    {
      "cell_type": "code",
      "metadata": {
        "id": "mYVGLnI1uFiR"
      },
      "source": [
        "ds=dicom.dcmread(DIR_test + '/'+'26e7295a-4039-463f-974f-e6402e5c9fa0.dcm')"
      ],
      "execution_count": 29,
      "outputs": []
    },
    {
      "cell_type": "code",
      "metadata": {
        "id": "z0uQuK4KwL4U",
        "outputId": "365ffce9-6cb2-4a7e-8b96-8eae68c5d9ee",
        "colab": {
          "base_uri": "https://localhost:8080/"
        }
      },
      "source": [
        "ds"
      ],
      "execution_count": 35,
      "outputs": [
        {
          "output_type": "execute_result",
          "data": {
            "text/plain": [
              "Dataset.file_meta -------------------------------\n",
              "(0002, 0000) File Meta Information Group Length  UL: 200\n",
              "(0002, 0001) File Meta Information Version       OB: b'\\x00\\x01'\n",
              "(0002, 0002) Media Storage SOP Class UID         UI: Secondary Capture Image Storage\n",
              "(0002, 0003) Media Storage SOP Instance UID      UI: 1.2.276.0.7230010.3.1.4.8323329.1521.1517874291.365076\n",
              "(0002, 0010) Transfer Syntax UID                 UI: JPEG Baseline (Process 1)\n",
              "(0002, 0012) Implementation Class UID            UI: 1.2.276.0.7230010.3.0.3.6.0\n",
              "(0002, 0013) Implementation Version Name         SH: 'OFFIS_DCMTK_360'\n",
              "-------------------------------------------------\n",
              "(0008, 0005) Specific Character Set              CS: 'ISO_IR 100'\n",
              "(0008, 0016) SOP Class UID                       UI: Secondary Capture Image Storage\n",
              "(0008, 0018) SOP Instance UID                    UI: 1.2.276.0.7230010.3.1.4.8323329.1521.1517874291.365076\n",
              "(0008, 0020) Study Date                          DA: '19010101'\n",
              "(0008, 0030) Study Time                          TM: '000000.00'\n",
              "(0008, 0050) Accession Number                    SH: ''\n",
              "(0008, 0060) Modality                            CS: 'CR'\n",
              "(0008, 0064) Conversion Type                     CS: 'WSD'\n",
              "(0008, 0090) Referring Physician's Name          PN: ''\n",
              "(0008, 103e) Series Description                  LO: 'view: PA'\n",
              "(0010, 0010) Patient's Name                      PN: '26e7295a-4039-463f-974f-e6402e5c9fa0'\n",
              "(0010, 0020) Patient ID                          LO: '26e7295a-4039-463f-974f-e6402e5c9fa0'\n",
              "(0010, 0030) Patient's Birth Date                DA: ''\n",
              "(0010, 0040) Patient's Sex                       CS: 'M'\n",
              "(0010, 1010) Patient's Age                       AS: '61'\n",
              "(0018, 0015) Body Part Examined                  CS: 'CHEST'\n",
              "(0018, 5101) View Position                       CS: 'PA'\n",
              "(0020, 000d) Study Instance UID                  UI: 1.2.276.0.7230010.3.1.2.8323329.1521.1517874291.365075\n",
              "(0020, 000e) Series Instance UID                 UI: 1.2.276.0.7230010.3.1.3.8323329.1521.1517874291.365074\n",
              "(0020, 0010) Study ID                            SH: ''\n",
              "(0020, 0011) Series Number                       IS: \"1\"\n",
              "(0020, 0013) Instance Number                     IS: \"1\"\n",
              "(0020, 0020) Patient Orientation                 CS: ''\n",
              "(0028, 0002) Samples per Pixel                   US: 1\n",
              "(0028, 0004) Photometric Interpretation          CS: 'MONOCHROME2'\n",
              "(0028, 0010) Rows                                US: 1024\n",
              "(0028, 0011) Columns                             US: 1024\n",
              "(0028, 0030) Pixel Spacing                       DS: [0.168, 0.168]\n",
              "(0028, 0100) Bits Allocated                      US: 8\n",
              "(0028, 0101) Bits Stored                         US: 8\n",
              "(0028, 0102) High Bit                            US: 7\n",
              "(0028, 0103) Pixel Representation                US: 0\n",
              "(0028, 2110) Lossy Image Compression             CS: '01'\n",
              "(0028, 2114) Lossy Image Compression Method      CS: 'ISO_10918_1'\n",
              "(7fe0, 0010) Pixel Data                          OB: Array of 121048 elements"
            ]
          },
          "metadata": {
            "tags": []
          },
          "execution_count": 35
        }
      ]
    },
    {
      "cell_type": "code",
      "metadata": {
        "id": "NQ7nOcykwNiS",
        "outputId": "4f29ddfb-34e4-45d7-9166-0b6694abbbb5",
        "colab": {
          "base_uri": "https://localhost:8080/",
          "height": 287
        }
      },
      "source": [
        "import cv2\n",
        "#cv2.imshow(ds.pixel_array)\n",
        "plt.imshow(ds.pixel_array,cmap='gray')"
      ],
      "execution_count": 41,
      "outputs": [
        {
          "output_type": "execute_result",
          "data": {
            "text/plain": [
              "<matplotlib.image.AxesImage at 0x7fe4e6ff5320>"
            ]
          },
          "metadata": {
            "tags": []
          },
          "execution_count": 41
        },
        {
          "output_type": "display_data",
          "data": {
            "image/png": "[encoded data removed]",
            "text/plain": [
              "<Figure size 432x288 with 1 Axes>"
            ]
          },
          "metadata": {
            "tags": [],
            "needs_background": "light"
          }
        }
      ]
    },
    {
      "cell_type": "code",
      "metadata": {
        "id": "9aWGbIrSwW1E",
        "outputId": "286a8a8a-a1c9-4b19-9702-5f1b377b5aee",
        "colab": {
          "base_uri": "https://localhost:8080/"
        }
      },
      "source": [
        "import os\n",
        "import cv2\n",
        "count = 0\n",
        "d = \"stage_2_train_images\"\n",
        "for path in os.listdir(d):\n",
        "  img = cv2.imread(path, 1)\n",
        "  if img is  None:\n",
        "        count += 1\n",
        "print(\"Total non readdable Training images:\")\n",
        "print(count)\n",
        "\n",
        " "
      ],
      "execution_count": 27,
      "outputs": [
        {
          "output_type": "stream",
          "text": [
            "Total non readdable Training images:\n",
            "26684\n"
          ],
          "name": "stdout"
        }
      ]
    },
    {
      "cell_type": "code",
      "metadata": {
        "id": "J2zEm4Aav-Nu",
        "outputId": "3afaf6a8-480f-4fe6-9fd8-7ada438d1cc5",
        "colab": {
          "base_uri": "https://localhost:8080/",
          "height": 231
        }
      },
      "source": [
        "def missing_data(data):\n",
        "    total = data.isnull().sum().sort_values(ascending = False)\n",
        "    print(\"total\",total)\n",
        "    percent = (data.isnull().sum()/data.isnull().count()*100).sort_values(ascending = False)\n",
        "    return np.transpose(pd.concat([total, percent], axis=1, keys=['Total', 'Percent']))\n",
        "missing_data(train_label)"
      ],
      "execution_count": 31,
      "outputs": [
        {
          "output_type": "stream",
          "text": [
            "total height       20672\n",
            "width        20672\n",
            "y            20672\n",
            "x            20672\n",
            "Target           0\n",
            "patientId        0\n",
            "dtype: int64\n"
          ],
          "name": "stdout"
        },
        {
          "output_type": "execute_result",
          "data": {
            "text/html": [
              "<div>\n",
              "<style scoped>\n",
              "    .dataframe tbody tr th:only-of-type {\n",
              "        vertical-align: middle;\n",
              "    }\n",
              "\n",
              "    .dataframe tbody tr th {\n",
              "        vertical-align: top;\n",
              "    }\n",
              "\n",
              "    .dataframe thead th {\n",
              "        text-align: right;\n",
              "    }\n",
              "</style>\n",
              "<table border=\"1\" class=\"dataframe\">\n",
              "  <thead>\n",
              "    <tr style=\"text-align: right;\">\n",
              "      <th></th>\n",
              "      <th>height</th>\n",
              "      <th>width</th>\n",
              "      <th>y</th>\n",
              "      <th>x</th>\n",
              "      <th>Target</th>\n",
              "      <th>patientId</th>\n",
              "    </tr>\n",
              "  </thead>\n",
              "  <tbody>\n",
              "    <tr>\n",
              "      <th>Total</th>\n",
              "      <td>20672.000000</td>\n",
              "      <td>20672.000000</td>\n",
              "      <td>20672.000000</td>\n",
              "      <td>20672.000000</td>\n",
              "      <td>0.0</td>\n",
              "      <td>0.0</td>\n",
              "    </tr>\n",
              "    <tr>\n",
              "      <th>Percent</th>\n",
              "      <td>68.389188</td>\n",
              "      <td>68.389188</td>\n",
              "      <td>68.389188</td>\n",
              "      <td>68.389188</td>\n",
              "      <td>0.0</td>\n",
              "      <td>0.0</td>\n",
              "    </tr>\n",
              "  </tbody>\n",
              "</table>\n",
              "</div>"
            ],
            "text/plain": [
              "               height         width  ...  Target  patientId\n",
              "Total    20672.000000  20672.000000  ...     0.0        0.0\n",
              "Percent     68.389188     68.389188  ...     0.0        0.0\n",
              "\n",
              "[2 rows x 6 columns]"
            ]
          },
          "metadata": {
            "tags": []
          },
          "execution_count": 31
        }
      ]
    },
    {
      "cell_type": "code",
      "metadata": {
        "id": "fzAn7xZF3J8N",
        "outputId": "d6d05014-b87e-4d8f-b146-d6738fcef7a2",
        "colab": {
          "base_uri": "https://localhost:8080/",
          "height": 162
        }
      },
      "source": [
        "missing_data(classinfo)"
      ],
      "execution_count": 40,
      "outputs": [
        {
          "output_type": "stream",
          "text": [
            "total Class        0\n",
            "patientId    0\n",
            "dtype: int64\n"
          ],
          "name": "stdout"
        },
        {
          "output_type": "execute_result",
          "data": {
            "text/html": [
              "<div>\n",
              "<style scoped>\n",
              "    .dataframe tbody tr th:only-of-type {\n",
              "        vertical-align: middle;\n",
              "    }\n",
              "\n",
              "    .dataframe tbody tr th {\n",
              "        vertical-align: top;\n",
              "    }\n",
              "\n",
              "    .dataframe thead th {\n",
              "        text-align: right;\n",
              "    }\n",
              "</style>\n",
              "<table border=\"1\" class=\"dataframe\">\n",
              "  <thead>\n",
              "    <tr style=\"text-align: right;\">\n",
              "      <th></th>\n",
              "      <th>Class</th>\n",
              "      <th>patientId</th>\n",
              "    </tr>\n",
              "  </thead>\n",
              "  <tbody>\n",
              "    <tr>\n",
              "      <th>Total</th>\n",
              "      <td>0.0</td>\n",
              "      <td>0.0</td>\n",
              "    </tr>\n",
              "    <tr>\n",
              "      <th>Percent</th>\n",
              "      <td>0.0</td>\n",
              "      <td>0.0</td>\n",
              "    </tr>\n",
              "  </tbody>\n",
              "</table>\n",
              "</div>"
            ],
            "text/plain": [
              "         Class  patientId\n",
              "Total      0.0        0.0\n",
              "Percent    0.0        0.0"
            ]
          },
          "metadata": {
            "tags": []
          },
          "execution_count": 40
        }
      ]
    },
    {
      "cell_type": "code",
      "metadata": {
        "id": "UVEjFAyQ3OGh",
        "outputId": "1ae68e87-6d9c-4ca9-d683-6469b7f0e06c",
        "colab": {
          "base_uri": "https://localhost:8080/",
          "height": 386
        }
      },
      "source": [
        "import seaborn as sns\n",
        "f, ax = plt.subplots(1,1, figsize=(6,4))\n",
        "total = float(len(classinfo))\n",
        "sns.countplot(classinfo['Class'],order = classinfo['Class'].value_counts().index, palette='Set3')\n",
        "for p in ax.patches:\n",
        "    height = p.get_height()\n",
        "    print(height)\n",
        "    ax.text(p.get_x()+p.get_width()/2.,\n",
        "            height + 3,\n",
        "            '{:1.2f}%'.format(100*height/total),\n",
        "            ha=\"center\") \n",
        "plt.show()"
      ],
      "execution_count": 43,
      "outputs": [
        {
          "output_type": "stream",
          "text": [
            "11821\n",
            "9555\n",
            "8851\n"
          ],
          "name": "stdout"
        },
        {
          "output_type": "stream",
          "text": [
            "/usr/local/lib/python3.6/dist-packages/seaborn/_decorators.py:43: FutureWarning: Pass the following variable as a keyword arg: x. From version 0.12, the only valid positional argument will be `data`, and passing other arguments without an explicit keyword will result in an error or misinterpretation.\n",
            "  FutureWarning\n"
          ],
          "name": "stderr"
        },
        {
          "output_type": "display_data",
          "data": {
            "image/png": "[encoded data removed]",
            "text/plain": [
              "<Figure size 432x288 with 1 Axes>"
            ]
          },
          "metadata": {
            "tags": [],
            "needs_background": "light"
          }
        }
      ]
    },
    {
      "cell_type": "code",
      "metadata": {
        "id": "WLgMepj158-x",
        "outputId": "e833cdbd-555e-4bc2-b6cd-bb06854a6d47",
        "colab": {
          "base_uri": "https://localhost:8080/",
          "height": 202
        }
      },
      "source": [
        "train_class_df = train_label.merge(classinfo, left_on='patientId', right_on='patientId', how='inner')\n",
        "train_class_df.head()"
      ],
      "execution_count": 47,
      "outputs": [
        {
          "output_type": "execute_result",
          "data": {
            "text/html": [
              "<div>\n",
              "<style scoped>\n",
              "    .dataframe tbody tr th:only-of-type {\n",
              "        vertical-align: middle;\n",
              "    }\n",
              "\n",
              "    .dataframe tbody tr th {\n",
              "        vertical-align: top;\n",
              "    }\n",
              "\n",
              "    .dataframe thead th {\n",
              "        text-align: right;\n",
              "    }\n",
              "</style>\n",
              "<table border=\"1\" class=\"dataframe\">\n",
              "  <thead>\n",
              "    <tr style=\"text-align: right;\">\n",
              "      <th></th>\n",
              "      <th>patientId</th>\n",
              "      <th>x</th>\n",
              "      <th>y</th>\n",
              "      <th>width</th>\n",
              "      <th>height</th>\n",
              "      <th>Target</th>\n",
              "      <th>Class</th>\n",
              "    </tr>\n",
              "  </thead>\n",
              "  <tbody>\n",
              "    <tr>\n",
              "      <th>0</th>\n",
              "      <td>0004cfab-14fd-4e49-80ba-63a80b6bddd6</td>\n",
              "      <td>NaN</td>\n",
              "      <td>NaN</td>\n",
              "      <td>NaN</td>\n",
              "      <td>NaN</td>\n",
              "      <td>0</td>\n",
              "      <td>No Lung Opacity / Not Normal</td>\n",
              "    </tr>\n",
              "    <tr>\n",
              "      <th>1</th>\n",
              "      <td>00313ee0-9eaa-42f4-b0ab-c148ed3241cd</td>\n",
              "      <td>NaN</td>\n",
              "      <td>NaN</td>\n",
              "      <td>NaN</td>\n",
              "      <td>NaN</td>\n",
              "      <td>0</td>\n",
              "      <td>No Lung Opacity / Not Normal</td>\n",
              "    </tr>\n",
              "    <tr>\n",
              "      <th>2</th>\n",
              "      <td>00322d4d-1c29-4943-afc9-b6754be640eb</td>\n",
              "      <td>NaN</td>\n",
              "      <td>NaN</td>\n",
              "      <td>NaN</td>\n",
              "      <td>NaN</td>\n",
              "      <td>0</td>\n",
              "      <td>No Lung Opacity / Not Normal</td>\n",
              "    </tr>\n",
              "    <tr>\n",
              "      <th>3</th>\n",
              "      <td>003d8fa0-6bf1-40ed-b54c-ac657f8495c5</td>\n",
              "      <td>NaN</td>\n",
              "      <td>NaN</td>\n",
              "      <td>NaN</td>\n",
              "      <td>NaN</td>\n",
              "      <td>0</td>\n",
              "      <td>Normal</td>\n",
              "    </tr>\n",
              "    <tr>\n",
              "      <th>4</th>\n",
              "      <td>00436515-870c-4b36-a041-de91049b9ab4</td>\n",
              "      <td>264.0</td>\n",
              "      <td>152.0</td>\n",
              "      <td>213.0</td>\n",
              "      <td>379.0</td>\n",
              "      <td>1</td>\n",
              "      <td>Lung Opacity</td>\n",
              "    </tr>\n",
              "  </tbody>\n",
              "</table>\n",
              "</div>"
            ],
            "text/plain": [
              "                              patientId  ...                         Class\n",
              "0  0004cfab-14fd-4e49-80ba-63a80b6bddd6  ...  No Lung Opacity / Not Normal\n",
              "1  00313ee0-9eaa-42f4-b0ab-c148ed3241cd  ...  No Lung Opacity / Not Normal\n",
              "2  00322d4d-1c29-4943-afc9-b6754be640eb  ...  No Lung Opacity / Not Normal\n",
              "3  003d8fa0-6bf1-40ed-b54c-ac657f8495c5  ...                        Normal\n",
              "4  00436515-870c-4b36-a041-de91049b9ab4  ...                  Lung Opacity\n",
              "\n",
              "[5 rows x 7 columns]"
            ]
          },
          "metadata": {
            "tags": []
          },
          "execution_count": 47
        }
      ]
    },
    {
      "cell_type": "code",
      "metadata": {
        "id": "9wdA-iEL68kJ",
        "outputId": "0d6dc653-f185-4797-d79a-ba24d8c6242a",
        "colab": {
          "base_uri": "https://localhost:8080/",
          "height": 404
        }
      },
      "source": [
        "fig, ax = plt.subplots(nrows=1,figsize=(12,6))\n",
        "tmp = train_class_df.groupby('Target')['Class'].value_counts()\n",
        "df = pd.DataFrame(data={'Exams': tmp.values}, index=tmp.index).reset_index()\n",
        "sns.barplot(ax=ax,x = 'Target', y='Exams',hue='Class',data=df, palette='Set3')\n",
        "plt.title(\"Chest exams class and Target\")\n",
        "plt.show()"
      ],
      "execution_count": 50,
      "outputs": [
        {
          "output_type": "display_data",
          "data": {
            "image/png": "[encoded data removed]",
            "text/plain": [
              "<Figure size 864x432 with 1 Axes>"
            ]
          },
          "metadata": {
            "tags": [],
            "needs_background": "light"
          }
        }
      ]
    },
    {
      "cell_type": "code",
      "metadata": {
        "id": "OOmvB9zh7gm3",
        "outputId": "aa0dd91f-bde5-45ce-a9b4-9cf9c659c7ea",
        "colab": {
          "base_uri": "https://localhost:8080/"
        }
      },
      "source": [
        "tmp.values"
      ],
      "execution_count": 54,
      "outputs": [
        {
          "output_type": "execute_result",
          "data": {
            "text/plain": [
              "array([11821,  8851, 16957])"
            ]
          },
          "metadata": {
            "tags": []
          },
          "execution_count": 54
        }
      ]
    },
    {
      "cell_type": "code",
      "metadata": {
        "id": "DzMNyCLt-P47",
        "outputId": "2cda68e9-b2ec-4485-a552-6e6246f17db1",
        "colab": {
          "base_uri": "https://localhost:8080/",
          "height": 202
        }
      },
      "source": [
        "train_class_df.head()"
      ],
      "execution_count": 55,
      "outputs": [
        {
          "output_type": "execute_result",
          "data": {
            "text/html": [
              "<div>\n",
              "<style scoped>\n",
              "    .dataframe tbody tr th:only-of-type {\n",
              "        vertical-align: middle;\n",
              "    }\n",
              "\n",
              "    .dataframe tbody tr th {\n",
              "        vertical-align: top;\n",
              "    }\n",
              "\n",
              "    .dataframe thead th {\n",
              "        text-align: right;\n",
              "    }\n",
              "</style>\n",
              "<table border=\"1\" class=\"dataframe\">\n",
              "  <thead>\n",
              "    <tr style=\"text-align: right;\">\n",
              "      <th></th>\n",
              "      <th>patientId</th>\n",
              "      <th>x</th>\n",
              "      <th>y</th>\n",
              "      <th>width</th>\n",
              "      <th>height</th>\n",
              "      <th>Target</th>\n",
              "      <th>Class</th>\n",
              "    </tr>\n",
              "  </thead>\n",
              "  <tbody>\n",
              "    <tr>\n",
              "      <th>0</th>\n",
              "      <td>0004cfab-14fd-4e49-80ba-63a80b6bddd6</td>\n",
              "      <td>NaN</td>\n",
              "      <td>NaN</td>\n",
              "      <td>NaN</td>\n",
              "      <td>NaN</td>\n",
              "      <td>0</td>\n",
              "      <td>No Lung Opacity / Not Normal</td>\n",
              "    </tr>\n",
              "    <tr>\n",
              "      <th>1</th>\n",
              "      <td>00313ee0-9eaa-42f4-b0ab-c148ed3241cd</td>\n",
              "      <td>NaN</td>\n",
              "      <td>NaN</td>\n",
              "      <td>NaN</td>\n",
              "      <td>NaN</td>\n",
              "      <td>0</td>\n",
              "      <td>No Lung Opacity / Not Normal</td>\n",
              "    </tr>\n",
              "    <tr>\n",
              "      <th>2</th>\n",
              "      <td>00322d4d-1c29-4943-afc9-b6754be640eb</td>\n",
              "      <td>NaN</td>\n",
              "      <td>NaN</td>\n",
              "      <td>NaN</td>\n",
              "      <td>NaN</td>\n",
              "      <td>0</td>\n",
              "      <td>No Lung Opacity / Not Normal</td>\n",
              "    </tr>\n",
              "    <tr>\n",
              "      <th>3</th>\n",
              "      <td>003d8fa0-6bf1-40ed-b54c-ac657f8495c5</td>\n",
              "      <td>NaN</td>\n",
              "      <td>NaN</td>\n",
              "      <td>NaN</td>\n",
              "      <td>NaN</td>\n",
              "      <td>0</td>\n",
              "      <td>Normal</td>\n",
              "    </tr>\n",
              "    <tr>\n",
              "      <th>4</th>\n",
              "      <td>00436515-870c-4b36-a041-de91049b9ab4</td>\n",
              "      <td>264.0</td>\n",
              "      <td>152.0</td>\n",
              "      <td>213.0</td>\n",
              "      <td>379.0</td>\n",
              "      <td>1</td>\n",
              "      <td>Lung Opacity</td>\n",
              "    </tr>\n",
              "  </tbody>\n",
              "</table>\n",
              "</div>"
            ],
            "text/plain": [
              "                              patientId  ...                         Class\n",
              "0  0004cfab-14fd-4e49-80ba-63a80b6bddd6  ...  No Lung Opacity / Not Normal\n",
              "1  00313ee0-9eaa-42f4-b0ab-c148ed3241cd  ...  No Lung Opacity / Not Normal\n",
              "2  00322d4d-1c29-4943-afc9-b6754be640eb  ...  No Lung Opacity / Not Normal\n",
              "3  003d8fa0-6bf1-40ed-b54c-ac657f8495c5  ...                        Normal\n",
              "4  00436515-870c-4b36-a041-de91049b9ab4  ...                  Lung Opacity\n",
              "\n",
              "[5 rows x 7 columns]"
            ]
          },
          "metadata": {
            "tags": []
          },
          "execution_count": 55
        }
      ]
    },
    {
      "cell_type": "code",
      "metadata": {
        "id": "TAIGPPiR7e8K",
        "outputId": "fedfe3ea-4da0-409f-e6c4-cf8bdb036886",
        "colab": {
          "base_uri": "https://localhost:8080/",
          "height": 893
        }
      },
      "source": [
        "target1 = train_class_df[train_class_df['Target']==1]\n",
        "#sns.set_style('whitegrid')\n",
        "plt.figure()\n",
        "fig, ax = plt.subplots(2,2,figsize=(12,12))\n",
        "sns.distplot(target1['x'],kde=True,bins=50, color=\"red\", ax=ax[0,0])\n",
        "sns.distplot(target1['y'],kde=True,bins=50, color=\"blue\", ax=ax[0,1])\n",
        "sns.distplot(target1['width'],kde=True,bins=50, color=\"green\", ax=ax[1,0])\n",
        "sns.distplot(target1['height'],kde=True,bins=50, color=\"magenta\", ax=ax[1,1])\n",
        "locs, labels = plt.xticks()\n",
        "plt.tick_params(axis='both', which='major', labelsize=12)\n",
        "plt.show()"
      ],
      "execution_count": 56,
      "outputs": [
        {
          "output_type": "stream",
          "text": [
            "/usr/local/lib/python3.6/dist-packages/seaborn/distributions.py:2551: FutureWarning: `distplot` is a deprecated function and will be removed in a future version. Please adapt your code to use either `displot` (a figure-level function with similar flexibility) or `histplot` (an axes-level function for histograms).\n",
            "  warnings.warn(msg, FutureWarning)\n",
            "/usr/local/lib/python3.6/dist-packages/seaborn/distributions.py:2551: FutureWarning: `distplot` is a deprecated function and will be removed in a future version. Please adapt your code to use either `displot` (a figure-level function with similar flexibility) or `histplot` (an axes-level function for histograms).\n",
            "  warnings.warn(msg, FutureWarning)\n",
            "/usr/local/lib/python3.6/dist-packages/seaborn/distributions.py:2551: FutureWarning: `distplot` is a deprecated function and will be removed in a future version. Please adapt your code to use either `displot` (a figure-level function with similar flexibility) or `histplot` (an axes-level function for histograms).\n",
            "  warnings.warn(msg, FutureWarning)\n",
            "/usr/local/lib/python3.6/dist-packages/seaborn/distributions.py:2551: FutureWarning: `distplot` is a deprecated function and will be removed in a future version. Please adapt your code to use either `displot` (a figure-level function with similar flexibility) or `histplot` (an axes-level function for histograms).\n",
            "  warnings.warn(msg, FutureWarning)\n"
          ],
          "name": "stderr"
        },
        {
          "output_type": "display_data",
          "data": {
            "text/plain": [
              "<Figure size 432x288 with 0 Axes>"
            ]
          },
          "metadata": {
            "tags": []
          }
        },
        {
          "output_type": "display_data",
          "data": {
            "image/png": "[encoded data removed]",
            "text/plain": [
              "<Figure size 864x864 with 4 Axes>"
            ]
          },
          "metadata": {
            "tags": [],
            "needs_background": "light"
          }
        }
      ]
    },
    {
      "cell_type": "code",
      "metadata": {
        "id": "sdt3fjvy8KJb",
        "outputId": "a9ff52da-3385-4fc2-9d84-a27a72fe732d",
        "colab": {
          "base_uri": "https://localhost:8080/"
        }
      },
      "source": [
        "#Check for duplicate\n",
        "print(\"Unique patientId in  train_class_df: \", train_class_df['patientId'].nunique())  \n"
      ],
      "execution_count": 57,
      "outputs": [
        {
          "output_type": "stream",
          "text": [
            "Unique patientId in  train_class_df:  26684\n"
          ],
          "name": "stdout"
        }
      ]
    },
    {
      "cell_type": "markdown",
      "metadata": {
        "id": "xWYpnuTP_LFY"
      },
      "source": [
        "Number of unique patinet ID is same as number of dicom image in the training set"
      ]
    },
    {
      "cell_type": "code",
      "metadata": {
        "id": "wV4AItJy_dC5",
        "outputId": "d3606444-e8b2-41c1-b284-a6a31fca8a09",
        "colab": {
          "base_uri": "https://localhost:8080/"
        }
      },
      "source": [
        "tmp = train_class_df.groupby(['patientId','Target', 'Class'])['patientId'].count()\n",
        "tmp"
      ],
      "execution_count": 59,
      "outputs": [
        {
          "output_type": "execute_result",
          "data": {
            "text/plain": [
              "patientId                             Target  Class                       \n",
              "0004cfab-14fd-4e49-80ba-63a80b6bddd6  0       No Lung Opacity / Not Normal    1\n",
              "000924cf-0f8d-42bd-9158-1af53881a557  0       Normal                          1\n",
              "000db696-cf54-4385-b10b-6b16fbb3f985  1       Lung Opacity                    4\n",
              "000fe35a-2649-43d4-b027-e67796d412e0  1       Lung Opacity                    4\n",
              "001031d9-f904-4a23-b3e5-2c088acd19c6  1       Lung Opacity                    4\n",
              "                                                                             ..\n",
              "fffb2395-8edd-4954-8a89-ffe2fd329be3  1       Lung Opacity                    4\n",
              "fffba05a-1635-4545-9bbd-57ad4cfe8d27  0       Normal                          1\n",
              "fffc95b5-605b-4226-80ab-62caec682b22  0       No Lung Opacity / Not Normal    1\n",
              "fffcff11-d018-4414-971a-a7cefa327795  0       No Lung Opacity / Not Normal    1\n",
              "fffec09e-8a4a-48b1-b33e-ab4890ccd136  0       No Lung Opacity / Not Normal    1\n",
              "Name: patientId, Length: 26684, dtype: int64"
            ]
          },
          "metadata": {
            "tags": []
          },
          "execution_count": 59
        }
      ]
    },
    {
      "cell_type": "code",
      "metadata": {
        "id": "LOGBJm6RAE3N",
        "outputId": "f2d01f5d-1bf3-467f-9c58-9525b6532e66",
        "colab": {
          "base_uri": "https://localhost:8080/"
        }
      },
      "source": [
        "tmp.values"
      ],
      "execution_count": 60,
      "outputs": [
        {
          "output_type": "execute_result",
          "data": {
            "text/plain": [
              "array([1, 1, 4, ..., 1, 1, 1])"
            ]
          },
          "metadata": {
            "tags": []
          },
          "execution_count": 60
        }
      ]
    },
    {
      "cell_type": "code",
      "metadata": {
        "id": "z1nR-IvaA7H_",
        "outputId": "479cf0c2-33c4-4560-946c-81ac9fff4489",
        "colab": {
          "base_uri": "https://localhost:8080/",
          "height": 233
        }
      },
      "source": [
        "df = pd.DataFrame(data={'Exams': tmp.values}, index=tmp.index).reset_index()\n",
        "df.head()\n",
        "tmp = df.groupby(['Exams','Target','Class']).count()\n",
        "df2 = pd.DataFrame(data=tmp.values, index=tmp.index).reset_index()\n",
        "df2.columns = ['Exams', 'Target','Class', 'Entries']\n",
        "df2"
      ],
      "execution_count": 62,
      "outputs": [
        {
          "output_type": "execute_result",
          "data": {
            "text/html": [
              "<div>\n",
              "<style scoped>\n",
              "    .dataframe tbody tr th:only-of-type {\n",
              "        vertical-align: middle;\n",
              "    }\n",
              "\n",
              "    .dataframe tbody tr th {\n",
              "        vertical-align: top;\n",
              "    }\n",
              "\n",
              "    .dataframe thead th {\n",
              "        text-align: right;\n",
              "    }\n",
              "</style>\n",
              "<table border=\"1\" class=\"dataframe\">\n",
              "  <thead>\n",
              "    <tr style=\"text-align: right;\">\n",
              "      <th></th>\n",
              "      <th>Exams</th>\n",
              "      <th>Target</th>\n",
              "      <th>Class</th>\n",
              "      <th>Entries</th>\n",
              "    </tr>\n",
              "  </thead>\n",
              "  <tbody>\n",
              "    <tr>\n",
              "      <th>0</th>\n",
              "      <td>1</td>\n",
              "      <td>0</td>\n",
              "      <td>No Lung Opacity / Not Normal</td>\n",
              "      <td>11821</td>\n",
              "    </tr>\n",
              "    <tr>\n",
              "      <th>1</th>\n",
              "      <td>1</td>\n",
              "      <td>0</td>\n",
              "      <td>Normal</td>\n",
              "      <td>8851</td>\n",
              "    </tr>\n",
              "    <tr>\n",
              "      <th>2</th>\n",
              "      <td>1</td>\n",
              "      <td>1</td>\n",
              "      <td>Lung Opacity</td>\n",
              "      <td>2614</td>\n",
              "    </tr>\n",
              "    <tr>\n",
              "      <th>3</th>\n",
              "      <td>4</td>\n",
              "      <td>1</td>\n",
              "      <td>Lung Opacity</td>\n",
              "      <td>3266</td>\n",
              "    </tr>\n",
              "    <tr>\n",
              "      <th>4</th>\n",
              "      <td>9</td>\n",
              "      <td>1</td>\n",
              "      <td>Lung Opacity</td>\n",
              "      <td>119</td>\n",
              "    </tr>\n",
              "    <tr>\n",
              "      <th>5</th>\n",
              "      <td>16</td>\n",
              "      <td>1</td>\n",
              "      <td>Lung Opacity</td>\n",
              "      <td>13</td>\n",
              "    </tr>\n",
              "  </tbody>\n",
              "</table>\n",
              "</div>"
            ],
            "text/plain": [
              "   Exams  Target                         Class  Entries\n",
              "0      1       0  No Lung Opacity / Not Normal    11821\n",
              "1      1       0                        Normal     8851\n",
              "2      1       1                  Lung Opacity     2614\n",
              "3      4       1                  Lung Opacity     3266\n",
              "4      9       1                  Lung Opacity      119\n",
              "5     16       1                  Lung Opacity       13"
            ]
          },
          "metadata": {
            "tags": []
          },
          "execution_count": 62
        }
      ]
    },
    {
      "cell_type": "code",
      "metadata": {
        "id": "xovHWGzsBbB1",
        "outputId": "c6575652-6e64-446f-c41e-28a2b9bd30af",
        "colab": {
          "base_uri": "https://localhost:8080/"
        }
      },
      "source": [
        "df2.Exams.value_counts()"
      ],
      "execution_count": 65,
      "outputs": [
        {
          "output_type": "execute_result",
          "data": {
            "text/plain": [
              "1     3\n",
              "4     1\n",
              "9     1\n",
              "16    1\n",
              "Name: Exams, dtype: int64"
            ]
          },
          "metadata": {
            "tags": []
          },
          "execution_count": 65
        }
      ]
    },
    {
      "cell_type": "code",
      "metadata": {
        "id": "SIuoODMWB5S3",
        "outputId": "7dce8fe6-b224-4ded-d668-16d00c798684",
        "colab": {
          "base_uri": "https://localhost:8080/",
          "height": 297
        }
      },
      "source": [
        "sns.barplot(x = 'Target', y='Entries', hue='Exams',data=df2)"
      ],
      "execution_count": 68,
      "outputs": [
        {
          "output_type": "execute_result",
          "data": {
            "text/plain": [
              "<matplotlib.axes._subplots.AxesSubplot at 0x7fde3e0deb70>"
            ]
          },
          "metadata": {
            "tags": []
          },
          "execution_count": 68
        },
        {
          "output_type": "display_data",
          "data": {
            "image/png": "[encoded data removed]",
            "text/plain": [
              "<Figure size 432x288 with 1 Axes>"
            ]
          },
          "metadata": {
            "tags": [],
            "needs_background": "light"
          }
        }
      ]
    },
    {
      "cell_type": "code",
      "metadata": {
        "id": "Fny4Z9dTCO9T"
      },
      "source": [
        ""
      ],
      "execution_count": null,
      "outputs": []
    }
  ]
}