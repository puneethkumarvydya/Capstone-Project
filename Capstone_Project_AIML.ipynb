{
  "nbformat": 4,
  "nbformat_minor": 0,
  "metadata": {
    "colab": {
      "name": "Capstone_Project_AIML.ipynb",
      "provenance": [],
      "include_colab_link": true
    },
    "kernelspec": {
      "display_name": "Python 3",
      "language": "python",
      "name": "python3"
    },
    "language_info": {
      "codemirror_mode": {
        "name": "ipython",
        "version": 3
      },
      "file_extension": ".py",
      "mimetype": "text/x-python",
      "name": "python",
      "nbconvert_exporter": "python",
      "pygments_lexer": "ipython3",
      "version": "3.7.6"
    }
  },
  "cells": [
    {
      "cell_type": "markdown",
      "metadata": {
        "id": "view-in-github",
        "colab_type": "text"
      },
      "source": [
        "<a href=\"https://colab.research.google.com/github/puneethkumarvydya/Capstone-Project/blob/Gopi's-Branch/Capstone_Project_AIML.ipynb\" target=\"_parent\"><img src=\"https://colab.research.google.com/assets/colab-badge.svg\" alt=\"Open In Colab\"/></a>"
      ]
    },
    {
      "cell_type": "code",
      "metadata": {
        "id": "y50tKDXvNO0Y"
      },
      "source": [
        "# Total training images\n",
        "import os\n",
        "count = 0\n",
        "d = \"stage_2_train_images\"\n",
        "for path in os.listdir(d):\n",
        "    if os.path.isfile(os.path.join(d, path)):\n",
        "        count += 1\n",
        "print(\"Total Training images:\")\n",
        "print(count)"
      ],
      "execution_count": null,
      "outputs": []
    },
    {
      "cell_type": "code",
      "metadata": {
        "id": "Nl2MPPhyRWj0"
      },
      "source": [
        "# Total testing images\n",
        "count = 0\n",
        "d = \"stage_2_test_images\"\n",
        "for path in os.listdir(d):\n",
        "    if os.path.isfile(os.path.join(d, path)):\n",
        "        count += 1\n",
        "print(\"Total Testing images:\")\n",
        "print(count)"
      ],
      "execution_count": null,
      "outputs": []
    },
    {
      "cell_type": "code",
      "metadata": {
        "id": "qcLvD5DzRZ-l"
      },
      "source": [
        "# finding minimum and maximum image size for testing images\n",
        "min_size = os.path.getsize('stage_2_train_images/000db696-cf54-4385-b10b-6b16fbb3f985.dcm')\n",
        "max_size = os.path.getsize('stage_2_train_images/000db696-cf54-4385-b10b-6b16fbb3f985.dcm')\n",
        "d = \"stage_2_train_images\"\n",
        "for path in os.listdir(d):\n",
        "    if os.path.isfile(os.path.join(d, path)):\n",
        "        size = os.path.getsize(d + \"/\" + path)\n",
        "        if size < min_size:\n",
        "            min_size = size\n",
        "            min_filename = path\n",
        "        if size > max_size:\n",
        "            max_size = size\n",
        "            max_filename = path\n",
        "            \n",
        "print(min_size)\n",
        "print(max_size)"
      ],
      "execution_count": null,
      "outputs": []
    },
    {
      "cell_type": "code",
      "metadata": {
        "id": "TB2L016adZjX"
      },
      "source": [
        "# plotting image\n",
        "import pydicom as dicom\n",
        "import matplotlib.pylab as plt\n",
        "\n",
        "image_path = 'stage_2_train_images/' + min_filename\n",
        "ds = dicom.dcmread(image_path)\n",
        "\n",
        "plt.imshow(ds.pixel_array, cmap='gray')"
      ],
      "execution_count": null,
      "outputs": []
    },
    {
      "cell_type": "code",
      "metadata": {
        "id": "ivIcLB1odbL_"
      },
      "source": [
        "# plotting another image\n",
        "image_path = 'stage_2_train_images/' + max_filename\n",
        "ds = dicom.dcmread(image_path)\n",
        "\n",
        "plt.imshow(ds.pixel_array, cmap='gray')"
      ],
      "execution_count": null,
      "outputs": []
    },
    {
      "cell_type": "code",
      "metadata": {
        "id": "Orf0TcRK--op"
      },
      "source": [
        "# finding minimum and maximum image size for training images\n",
        "min_size = os.path.getsize('stage_2_test_images/0000a175-0e68-4ca4-b1af-167204a7e0bc.dcm')\n",
        "max_size = os.path.getsize('stage_2_test_images/0000a175-0e68-4ca4-b1af-167204a7e0bc.dcm')\n",
        "d = \"stage_2_test_images\"\n",
        "for path in os.listdir(d):\n",
        "    if os.path.isfile(os.path.join(d, path)):\n",
        "        size = os.path.getsize(d + \"/\" + path)\n",
        "        if size < min_size:\n",
        "            min_size = size\n",
        "            min_filename = path\n",
        "        if size > max_size:\n",
        "            max_size = size\n",
        "            max_filename = path\n",
        "            \n",
        "print(min_size)\n",
        "print(max_size)"
      ],
      "execution_count": null,
      "outputs": []
    },
    {
      "cell_type": "code",
      "metadata": {
        "id": "EtMI3yBd--ou"
      },
      "source": [
        "# plotting dcm metadata details for one image\n",
        "image_path = 'stage_2_train_images/000db696-cf54-4385-b10b-6b16fbb3f985.dcm'\n",
        "ds = dicom.dcmread(image_path, force = True)\n",
        "\n",
        "ds"
      ],
      "execution_count": null,
      "outputs": []
    },
    {
      "cell_type": "code",
      "metadata": {
        "id": "0NtHWtXb--oy"
      },
      "source": [
        "# importing metadata details for testing imaages to an excel file\n",
        "import pickle\n",
        "\n",
        "d = \"stage_2_train_images\"\n",
        "data = \"\"\n",
        "for path in os.listdir(d):\n",
        "    if os.path.isfile(os.path.join(d, path)):\n",
        "        ds = dicom.dcmread(d + \"/\" + path)\n",
        "        dat1 = ds[16,32].value\n",
        "        dat2 = ds[16,64].value\n",
        "        dat3 = ds[16,4112].value\n",
        "        dat4 = ds[24,21].value\n",
        "        data = data + dat1 + ',' + dat2 + ',' + dat3 + ',' + dat4 + ',' + '\\n'\n",
        "        with open('images_more_data_training.csv', 'wb') as fp:\n",
        "            pickle.dump(data, fp)"
      ],
      "execution_count": null,
      "outputs": []
    },
    {
      "cell_type": "code",
      "metadata": {
        "id": "kyh7Oo9t--o2"
      },
      "source": [
        "# importing metadata details for training images to an excel file\n",
        " = \"stage_2_test_images\"\n",
        "data = \"\"\n",
        "for path in os.listdir(d):\n",
        "    if os.path.isfile(os.path.join(d, path)):\n",
        "        ds = dicom.dcmread(d + \"/\" + path)\n",
        "        dat1 = ds[16,32].value\n",
        "        dat2 = ds[16,64].value\n",
        "        dat3 = ds[16,4112].value\n",
        "        dat4 = ds[24,21].value\n",
        "        data = data + dat1 + ',' + dat2 + ',' + dat3 + ',' + dat4 + ',' + '\\n'\n",
        "        with open('images_more_data_test.csv', 'wb') as fp:\n",
        "            pickle.dump(data, fp)"
      ],
      "execution_count": null,
      "outputs": []
    },
    {
      "cell_type": "code",
      "metadata": {
        "id": "E9i9fZ53--o5"
      },
      "source": [
        "import pandas as pd\n",
        "\n",
        "class_info = pd.read_csv(\"stage_2_detailed_class_info.csv\")\n",
        "\n",
        "class_info.shape\n",
        "\n",
        "class_info.head(10)\n",
        "\n",
        "class_info.describe()\n",
        "\n",
        "class_info['class'].unique()\n",
        "\n",
        "import seaborn as sb\n",
        "\n",
        "sb.countplot(x='class',data=class_info)\n",
        "\n",
        "class_info.isnull().sum()\n",
        "\n",
        "# same for train_labels csv"
      ],
      "execution_count": null,
      "outputs": []
    }
  ]
}