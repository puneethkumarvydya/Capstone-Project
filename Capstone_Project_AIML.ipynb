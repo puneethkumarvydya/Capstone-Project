{
  "nbformat": 4,
  "nbformat_minor": 0,
  "metadata": {
    "colab": {
      "name": "Capstone_Project_AIML.ipynb",
      "provenance": [],
      "include_colab_link": true
    },
    "kernelspec": {
      "name": "python3",
      "display_name": "Python 3"
    },
    "accelerator": "GPU"
  },
  "cells": [
    {
      "cell_type": "markdown",
      "metadata": {
        "id": "view-in-github",
        "colab_type": "text"
      },
      "source": [
        "<a href=\"https://colab.research.google.com/github/puneethkumarvydya/Capstone-Project/blob/Ganesh's-Branch/Capstone_Project_AIML.ipynb\" target=\"_parent\"><img src=\"https://colab.research.google.com/assets/colab-badge.svg\" alt=\"Open In Colab\"/></a>"
      ]
    },
    {
      "cell_type": "code",
      "metadata": {
        "id": "usqXBgoAnb46"
      },
      "source": [
        ""
      ],
      "execution_count": null,
      "outputs": []
    },
    {
      "cell_type": "markdown",
      "metadata": {
        "id": "cs_b83aknnl4"
      },
      "source": [
        "# Project Pneumonia detection from chest X-Ray images "
      ]
    },
    {
      "cell_type": "markdown",
      "metadata": {
        "id": "cwuGW-so2hEw"
      },
      "source": [
        "# Project Description\n",
        "\n",
        "\n",
        "In this capstone project, the goal is to build a pneumonia detection system, to locate the position of inflammation in an image. Tissues with sparse material, such as lungs which are full of air, do not absorb the X-rays and appear black in the image. Dense tissues such as bones absorb X-rays and appear white in the image. While we are theoretically detecting “lung opacities”, there are lung opacities that are not pneumonia related. In the data, some of these are labeled “Not Normal No Lung Opacity”. This extra third class indicates that while pneumonia was determined not to be present, there was nonetheless some type of abnormality on the image and oftentimes this finding may mimic the appearance of true pneumonia. Dicom original images: - Medical images are stored in a special format called DICOM files (*.dcm). They contain a combination of header metadata as well as underlying raw image arrays for pixel data. Details about the data and dataset files are given in below link, https://www.kaggle.com/c/rsna-pneumonia-detection-challenge/data"
      ]
    },
    {
      "cell_type": "code",
      "metadata": {
        "id": "y50tKDXvNO0Y"
      },
      "source": [
        ""
      ],
      "execution_count": null,
      "outputs": []
    },
    {
      "cell_type": "markdown",
      "metadata": {
        "id": "SfDxC2XW2j5a"
      },
      "source": [
        "# Pre-Processing, Data Visualization, EDA\n",
        " Exploring the given Data files, classes and images of different classes.\n",
        "\n",
        " Dealing with missing values\n",
        "\n",
        " Visualization of different classes\n",
        "\n",
        " Analysis from the visualization of different classes.\n",
        "\n",
        "# Model Building\n",
        " Building a pneumonia detection model starting from basic CNN and then improving upon it.\n",
        " Train the model\n",
        "\n",
        " To deal with large training time, save the weights so that you can use them when training the\n",
        "\n",
        "model for the second time without starting from scratch.\n",
        "\n",
        " **Test the model and report as per evaluation metrics**\n",
        "\n",
        " Try different models\n",
        "\n",
        " Set different hyper parameters, by trying different optimizers, loss functions, epochs, learning\n",
        "\n",
        "rate, batch size, checkpointing, early stopping etc. for these models to fine-tune them\n",
        "\n",
        " Report evaluation metrics for these models along with your observation on how changing\n",
        "\n",
        "different hyper parameters leads to change in the final evaluation metric."
      ]
    },
    {
      "cell_type": "code",
      "metadata": {
        "id": "Nl2MPPhyRWj0",
        "outputId": "cc55a166-f292-487e-95d2-33e9fb3a07f5",
        "colab": {
          "base_uri": "https://localhost:8080/",
          "height": 36
        }
      },
      "source": [
        "import tensorflow\n",
        "tensorflow.__version__"
      ],
      "execution_count": 4,
      "outputs": [
        {
          "output_type": "execute_result",
          "data": {
            "application/vnd.google.colaboratory.intrinsic+json": {
              "type": "string"
            },
            "text/plain": [
              "'2.3.0'"
            ]
          },
          "metadata": {
            "tags": []
          },
          "execution_count": 4
        }
      ]
    },
    {
      "cell_type": "code",
      "metadata": {
        "id": "cbv1JaKHevBM",
        "outputId": "38684a8d-723b-4a71-ad71-68e993d55c95",
        "colab": {
          "base_uri": "https://localhost:8080/"
        }
      },
      "source": [
        "from google.colab import drive\n",
        "drive.mount('/content/drive')"
      ],
      "execution_count": 5,
      "outputs": [
        {
          "output_type": "stream",
          "text": [
            "Mounted at /content/drive\n"
          ],
          "name": "stdout"
        }
      ]
    },
    {
      "cell_type": "code",
      "metadata": {
        "id": "ETf7-fzCeu04"
      },
      "source": [
        ""
      ],
      "execution_count": null,
      "outputs": []
    },
    {
      "cell_type": "markdown",
      "metadata": {
        "id": "47WqYMsregXO"
      },
      "source": [
        "# Let’s start with loading all the libraries and dependencies."
      ]
    },
    {
      "cell_type": "code",
      "metadata": {
        "id": "qcLvD5DzRZ-l"
      },
      "source": [
        "import os\n",
        "import numpy as np\n",
        "import pandas as pd \n",
        "import random\n",
        "import cv2\n",
        "import matplotlib.pyplot as plt\n",
        "%matplotlib inline\n",
        "\n",
        "import keras.backend as K\n",
        "from keras.models import Model, Sequential\n",
        "from keras.layers import Input, Dense, Flatten, Dropout, BatchNormalization\n",
        "from keras.layers import Conv2D, SeparableConv2D, MaxPool2D, LeakyReLU, Activation\n",
        "from keras.optimizers import Adam\n",
        "from keras.preprocessing.image import ImageDataGenerator\n",
        "from keras.callbacks import ModelCheckpoint, ReduceLROnPlateau, EarlyStopping\n",
        "import tensorflow as tf\n",
        "\n",
        "seed = 232\n",
        "np.random.seed(seed)\n",
        "#tf.set_random_seed(seed)"
      ],
      "execution_count": 6,
      "outputs": []
    },
    {
      "cell_type": "code",
      "metadata": {
        "id": "_Q6rUCYLfa3K"
      },
      "source": [
        ""
      ],
      "execution_count": null,
      "outputs": []
    },
    {
      "cell_type": "code",
      "metadata": {
        "id": "1ZyztQaPfbi1",
        "outputId": "67172c01-a324-4014-e965-a43e79d04ce1",
        "colab": {
          "base_uri": "https://localhost:8080/"
        }
      },
      "source": [
        "os.chdir('/content/drive/My Drive/projects/capstone_project/Capestone/')\n",
        "#path = ('.')\n",
        "os.listdir()"
      ],
      "execution_count": 7,
      "outputs": [
        {
          "output_type": "execute_result",
          "data": {
            "text/plain": [
              "['Pneumonia Detection Challenge Brief.pdf',\n",
              " 'Interim Report Format.pdf',\n",
              " 'Final Report Format.pdf',\n",
              " 'rsna-pneumonia-detection-challenge.zip',\n",
              " 'Capstone_Project_AIML.ipynb',\n",
              " 'stage_2_test_images',\n",
              " 'stage_2_train_images',\n",
              " 'stage_2_train_labels.csv',\n",
              " 'GCP Credits Request Link - RSNA.txt',\n",
              " 'stage_2_sample_submission.csv',\n",
              " 'stage_2_detailed_class_info.csv']"
            ]
          },
          "metadata": {
            "tags": []
          },
          "execution_count": 7
        }
      ]
    },
    {
      "cell_type": "markdown",
      "metadata": {
        "id": "Yiy2GlA8iV5q"
      },
      "source": [
        "# All our images are in the zip file so we need to extract the contents of this file"
      ]
    },
    {
      "cell_type": "code",
      "metadata": {
        "id": "QlopPGITfbIF"
      },
      "source": [
        "#images_zip_path = project_path + 'Aligned Face Dataset from Pinterest.zip' #\"images.zip\"\n",
        "#from zipfile import ZipFile\n",
        "#with ZipFile(\"rsna-pneumonia-detection-challenge.zip\",'r') as z:\n",
        "#  z.extractall()"
      ],
      "execution_count": null,
      "outputs": []
    },
    {
      "cell_type": "markdown",
      "metadata": {
        "id": "KSe-2yASlwOc"
      },
      "source": [
        "## DICOM images are generally used to store medical images. They are highly informative. Along with image data it stores lots of key patient information, such as, patient’s name, age, sex, doctor’s name etc.\n",
        "\n",
        "## ##If you just want to preview dicom images without extracting any information then use the following code. You need to install pydicom python package, you can install using **pip install pydicom** -"
      ]
    },
    {
      "cell_type": "code",
      "metadata": {
        "id": "G_UQuAERltwe",
        "outputId": "bf6bd0c5-9d41-468f-d436-b8a08f270ac5",
        "colab": {
          "base_uri": "https://localhost:8080/"
        }
      },
      "source": [
        "pip install pydicom"
      ],
      "execution_count": 8,
      "outputs": [
        {
          "output_type": "stream",
          "text": [
            "Collecting pydicom\n",
            "\u001b[?25l  Downloading https://files.pythonhosted.org/packages/9c/02/4e2c135bf2214b7e62714197b4e277a72d4672b1607a54b8922effc451c9/pydicom-2.1.0-py3-none-any.whl (1.9MB)\n",
            "\r\u001b[K     |▏                               | 10kB 19.9MB/s eta 0:00:01\r\u001b[K     |▍                               | 20kB 26.7MB/s eta 0:00:01\r\u001b[K     |▌                               | 30kB 31.2MB/s eta 0:00:01\r\u001b[K     |▊                               | 40kB 31.5MB/s eta 0:00:01\r\u001b[K     |▉                               | 51kB 15.4MB/s eta 0:00:01\r\u001b[K     |█                               | 61kB 13.4MB/s eta 0:00:01\r\u001b[K     |█▏                              | 71kB 12.7MB/s eta 0:00:01\r\u001b[K     |█▍                              | 81kB 12.3MB/s eta 0:00:01\r\u001b[K     |█▋                              | 92kB 12.2MB/s eta 0:00:01\r\u001b[K     |█▊                              | 102kB 13.2MB/s eta 0:00:01\r\u001b[K     |██                              | 112kB 13.2MB/s eta 0:00:01\r\u001b[K     |██                              | 122kB 13.2MB/s eta 0:00:01\r\u001b[K     |██▎                             | 133kB 13.2MB/s eta 0:00:01\r\u001b[K     |██▍                             | 143kB 13.2MB/s eta 0:00:01\r\u001b[K     |██▋                             | 153kB 13.2MB/s eta 0:00:01\r\u001b[K     |██▉                             | 163kB 13.2MB/s eta 0:00:01\r\u001b[K     |███                             | 174kB 13.2MB/s eta 0:00:01\r\u001b[K     |███▏                            | 184kB 13.2MB/s eta 0:00:01\r\u001b[K     |███▎                            | 194kB 13.2MB/s eta 0:00:01\r\u001b[K     |███▌                            | 204kB 13.2MB/s eta 0:00:01\r\u001b[K     |███▋                            | 215kB 13.2MB/s eta 0:00:01\r\u001b[K     |███▉                            | 225kB 13.2MB/s eta 0:00:01\r\u001b[K     |████                            | 235kB 13.2MB/s eta 0:00:01\r\u001b[K     |████▏                           | 245kB 13.2MB/s eta 0:00:01\r\u001b[K     |████▍                           | 256kB 13.2MB/s eta 0:00:01\r\u001b[K     |████▌                           | 266kB 13.2MB/s eta 0:00:01\r\u001b[K     |████▊                           | 276kB 13.2MB/s eta 0:00:01\r\u001b[K     |████▉                           | 286kB 13.2MB/s eta 0:00:01\r\u001b[K     |█████                           | 296kB 13.2MB/s eta 0:00:01\r\u001b[K     |█████▎                          | 307kB 13.2MB/s eta 0:00:01\r\u001b[K     |█████▍                          | 317kB 13.2MB/s eta 0:00:01\r\u001b[K     |█████▋                          | 327kB 13.2MB/s eta 0:00:01\r\u001b[K     |█████▊                          | 337kB 13.2MB/s eta 0:00:01\r\u001b[K     |██████                          | 348kB 13.2MB/s eta 0:00:01\r\u001b[K     |██████                          | 358kB 13.2MB/s eta 0:00:01\r\u001b[K     |██████▎                         | 368kB 13.2MB/s eta 0:00:01\r\u001b[K     |██████▌                         | 378kB 13.2MB/s eta 0:00:01\r\u001b[K     |██████▋                         | 389kB 13.2MB/s eta 0:00:01\r\u001b[K     |██████▉                         | 399kB 13.2MB/s eta 0:00:01\r\u001b[K     |███████                         | 409kB 13.2MB/s eta 0:00:01\r\u001b[K     |███████▏                        | 419kB 13.2MB/s eta 0:00:01\r\u001b[K     |███████▎                        | 430kB 13.2MB/s eta 0:00:01\r\u001b[K     |███████▌                        | 440kB 13.2MB/s eta 0:00:01\r\u001b[K     |███████▊                        | 450kB 13.2MB/s eta 0:00:01\r\u001b[K     |███████▉                        | 460kB 13.2MB/s eta 0:00:01\r\u001b[K     |████████                        | 471kB 13.2MB/s eta 0:00:01\r\u001b[K     |████████▏                       | 481kB 13.2MB/s eta 0:00:01\r\u001b[K     |████████▍                       | 491kB 13.2MB/s eta 0:00:01\r\u001b[K     |████████▌                       | 501kB 13.2MB/s eta 0:00:01\r\u001b[K     |████████▊                       | 512kB 13.2MB/s eta 0:00:01\r\u001b[K     |█████████                       | 522kB 13.2MB/s eta 0:00:01\r\u001b[K     |█████████                       | 532kB 13.2MB/s eta 0:00:01\r\u001b[K     |█████████▎                      | 542kB 13.2MB/s eta 0:00:01\r\u001b[K     |█████████▍                      | 552kB 13.2MB/s eta 0:00:01\r\u001b[K     |█████████▋                      | 563kB 13.2MB/s eta 0:00:01\r\u001b[K     |█████████▊                      | 573kB 13.2MB/s eta 0:00:01\r\u001b[K     |██████████                      | 583kB 13.2MB/s eta 0:00:01\r\u001b[K     |██████████▏                     | 593kB 13.2MB/s eta 0:00:01\r\u001b[K     |██████████▎                     | 604kB 13.2MB/s eta 0:00:01\r\u001b[K     |██████████▌                     | 614kB 13.2MB/s eta 0:00:01\r\u001b[K     |██████████▋                     | 624kB 13.2MB/s eta 0:00:01\r\u001b[K     |██████████▉                     | 634kB 13.2MB/s eta 0:00:01\r\u001b[K     |███████████                     | 645kB 13.2MB/s eta 0:00:01\r\u001b[K     |███████████▏                    | 655kB 13.2MB/s eta 0:00:01\r\u001b[K     |███████████▍                    | 665kB 13.2MB/s eta 0:00:01\r\u001b[K     |███████████▌                    | 675kB 13.2MB/s eta 0:00:01\r\u001b[K     |███████████▊                    | 686kB 13.2MB/s eta 0:00:01\r\u001b[K     |███████████▉                    | 696kB 13.2MB/s eta 0:00:01\r\u001b[K     |████████████                    | 706kB 13.2MB/s eta 0:00:01\r\u001b[K     |████████████▏                   | 716kB 13.2MB/s eta 0:00:01\r\u001b[K     |████████████▍                   | 727kB 13.2MB/s eta 0:00:01\r\u001b[K     |████████████▋                   | 737kB 13.2MB/s eta 0:00:01\r\u001b[K     |████████████▊                   | 747kB 13.2MB/s eta 0:00:01\r\u001b[K     |█████████████                   | 757kB 13.2MB/s eta 0:00:01\r\u001b[K     |█████████████                   | 768kB 13.2MB/s eta 0:00:01\r\u001b[K     |█████████████▎                  | 778kB 13.2MB/s eta 0:00:01\r\u001b[K     |█████████████▍                  | 788kB 13.2MB/s eta 0:00:01\r\u001b[K     |█████████████▋                  | 798kB 13.2MB/s eta 0:00:01\r\u001b[K     |█████████████▉                  | 808kB 13.2MB/s eta 0:00:01\r\u001b[K     |██████████████                  | 819kB 13.2MB/s eta 0:00:01\r\u001b[K     |██████████████▏                 | 829kB 13.2MB/s eta 0:00:01\r\u001b[K     |██████████████▎                 | 839kB 13.2MB/s eta 0:00:01\r\u001b[K     |██████████████▌                 | 849kB 13.2MB/s eta 0:00:01\r\u001b[K     |██████████████▋                 | 860kB 13.2MB/s eta 0:00:01\r\u001b[K     |██████████████▉                 | 870kB 13.2MB/s eta 0:00:01\r\u001b[K     |███████████████                 | 880kB 13.2MB/s eta 0:00:01\r\u001b[K     |███████████████▏                | 890kB 13.2MB/s eta 0:00:01\r\u001b[K     |███████████████▍                | 901kB 13.2MB/s eta 0:00:01\r\u001b[K     |███████████████▌                | 911kB 13.2MB/s eta 0:00:01\r\u001b[K     |███████████████▊                | 921kB 13.2MB/s eta 0:00:01\r\u001b[K     |███████████████▉                | 931kB 13.2MB/s eta 0:00:01\r\u001b[K     |████████████████                | 942kB 13.2MB/s eta 0:00:01\r\u001b[K     |████████████████▎               | 952kB 13.2MB/s eta 0:00:01\r\u001b[K     |████████████████▍               | 962kB 13.2MB/s eta 0:00:01\r\u001b[K     |████████████████▋               | 972kB 13.2MB/s eta 0:00:01\r\u001b[K     |████████████████▊               | 983kB 13.2MB/s eta 0:00:01\r\u001b[K     |█████████████████               | 993kB 13.2MB/s eta 0:00:01\r\u001b[K     |█████████████████               | 1.0MB 13.2MB/s eta 0:00:01\r\u001b[K     |█████████████████▎              | 1.0MB 13.2MB/s eta 0:00:01\r\u001b[K     |█████████████████▌              | 1.0MB 13.2MB/s eta 0:00:01\r\u001b[K     |█████████████████▋              | 1.0MB 13.2MB/s eta 0:00:01\r\u001b[K     |█████████████████▉              | 1.0MB 13.2MB/s eta 0:00:01\r\u001b[K     |██████████████████              | 1.1MB 13.2MB/s eta 0:00:01\r\u001b[K     |██████████████████▏             | 1.1MB 13.2MB/s eta 0:00:01\r\u001b[K     |██████████████████▎             | 1.1MB 13.2MB/s eta 0:00:01\r\u001b[K     |██████████████████▌             | 1.1MB 13.2MB/s eta 0:00:01\r\u001b[K     |██████████████████▊             | 1.1MB 13.2MB/s eta 0:00:01\r\u001b[K     |██████████████████▉             | 1.1MB 13.2MB/s eta 0:00:01\r\u001b[K     |███████████████████             | 1.1MB 13.2MB/s eta 0:00:01\r\u001b[K     |███████████████████▏            | 1.1MB 13.2MB/s eta 0:00:01\r\u001b[K     |███████████████████▍            | 1.1MB 13.2MB/s eta 0:00:01\r\u001b[K     |███████████████████▌            | 1.1MB 13.2MB/s eta 0:00:01\r\u001b[K     |███████████████████▊            | 1.2MB 13.2MB/s eta 0:00:01\r\u001b[K     |████████████████████            | 1.2MB 13.2MB/s eta 0:00:01\r\u001b[K     |████████████████████            | 1.2MB 13.2MB/s eta 0:00:01\r\u001b[K     |████████████████████▎           | 1.2MB 13.2MB/s eta 0:00:01\r\u001b[K     |████████████████████▍           | 1.2MB 13.2MB/s eta 0:00:01\r\u001b[K     |████████████████████▋           | 1.2MB 13.2MB/s eta 0:00:01\r\u001b[K     |████████████████████▊           | 1.2MB 13.2MB/s eta 0:00:01\r\u001b[K     |█████████████████████           | 1.2MB 13.2MB/s eta 0:00:01\r\u001b[K     |█████████████████████▏          | 1.2MB 13.2MB/s eta 0:00:01\r\u001b[K     |█████████████████████▎          | 1.2MB 13.2MB/s eta 0:00:01\r\u001b[K     |█████████████████████▌          | 1.3MB 13.2MB/s eta 0:00:01\r\u001b[K     |█████████████████████▋          | 1.3MB 13.2MB/s eta 0:00:01\r\u001b[K     |█████████████████████▉          | 1.3MB 13.2MB/s eta 0:00:01\r\u001b[K     |██████████████████████          | 1.3MB 13.2MB/s eta 0:00:01\r\u001b[K     |██████████████████████▏         | 1.3MB 13.2MB/s eta 0:00:01\r\u001b[K     |██████████████████████▍         | 1.3MB 13.2MB/s eta 0:00:01\r\u001b[K     |██████████████████████▌         | 1.3MB 13.2MB/s eta 0:00:01\r\u001b[K     |██████████████████████▊         | 1.3MB 13.2MB/s eta 0:00:01\r\u001b[K     |██████████████████████▉         | 1.3MB 13.2MB/s eta 0:00:01\r\u001b[K     |███████████████████████         | 1.4MB 13.2MB/s eta 0:00:01\r\u001b[K     |███████████████████████▏        | 1.4MB 13.2MB/s eta 0:00:01\r\u001b[K     |███████████████████████▍        | 1.4MB 13.2MB/s eta 0:00:01\r\u001b[K     |███████████████████████▋        | 1.4MB 13.2MB/s eta 0:00:01\r\u001b[K     |███████████████████████▊        | 1.4MB 13.2MB/s eta 0:00:01\r\u001b[K     |████████████████████████        | 1.4MB 13.2MB/s eta 0:00:01\r\u001b[K     |████████████████████████        | 1.4MB 13.2MB/s eta 0:00:01\r\u001b[K     |████████████████████████▎       | 1.4MB 13.2MB/s eta 0:00:01\r\u001b[K     |████████████████████████▍       | 1.4MB 13.2MB/s eta 0:00:01\r\u001b[K     |████████████████████████▋       | 1.4MB 13.2MB/s eta 0:00:01\r\u001b[K     |████████████████████████▉       | 1.5MB 13.2MB/s eta 0:00:01\r\u001b[K     |█████████████████████████       | 1.5MB 13.2MB/s eta 0:00:01\r\u001b[K     |█████████████████████████▏      | 1.5MB 13.2MB/s eta 0:00:01\r\u001b[K     |█████████████████████████▎      | 1.5MB 13.2MB/s eta 0:00:01\r\u001b[K     |█████████████████████████▌      | 1.5MB 13.2MB/s eta 0:00:01\r\u001b[K     |█████████████████████████▋      | 1.5MB 13.2MB/s eta 0:00:01\r\u001b[K     |█████████████████████████▉      | 1.5MB 13.2MB/s eta 0:00:01\r\u001b[K     |██████████████████████████      | 1.5MB 13.2MB/s eta 0:00:01\r\u001b[K     |██████████████████████████▏     | 1.5MB 13.2MB/s eta 0:00:01\r\u001b[K     |██████████████████████████▍     | 1.5MB 13.2MB/s eta 0:00:01\r\u001b[K     |██████████████████████████▌     | 1.6MB 13.2MB/s eta 0:00:01\r\u001b[K     |██████████████████████████▊     | 1.6MB 13.2MB/s eta 0:00:01\r\u001b[K     |██████████████████████████▉     | 1.6MB 13.2MB/s eta 0:00:01\r\u001b[K     |███████████████████████████     | 1.6MB 13.2MB/s eta 0:00:01\r\u001b[K     |███████████████████████████▎    | 1.6MB 13.2MB/s eta 0:00:01\r\u001b[K     |███████████████████████████▍    | 1.6MB 13.2MB/s eta 0:00:01\r\u001b[K     |███████████████████████████▋    | 1.6MB 13.2MB/s eta 0:00:01\r\u001b[K     |███████████████████████████▊    | 1.6MB 13.2MB/s eta 0:00:01\r\u001b[K     |████████████████████████████    | 1.6MB 13.2MB/s eta 0:00:01\r\u001b[K     |████████████████████████████    | 1.6MB 13.2MB/s eta 0:00:01\r\u001b[K     |████████████████████████████▎   | 1.7MB 13.2MB/s eta 0:00:01\r\u001b[K     |████████████████████████████▌   | 1.7MB 13.2MB/s eta 0:00:01\r\u001b[K     |████████████████████████████▋   | 1.7MB 13.2MB/s eta 0:00:01\r\u001b[K     |████████████████████████████▉   | 1.7MB 13.2MB/s eta 0:00:01\r\u001b[K     |█████████████████████████████   | 1.7MB 13.2MB/s eta 0:00:01\r\u001b[K     |█████████████████████████████▏  | 1.7MB 13.2MB/s eta 0:00:01\r\u001b[K     |█████████████████████████████▎  | 1.7MB 13.2MB/s eta 0:00:01\r\u001b[K     |█████████████████████████████▌  | 1.7MB 13.2MB/s eta 0:00:01\r\u001b[K     |█████████████████████████████▊  | 1.7MB 13.2MB/s eta 0:00:01\r\u001b[K     |█████████████████████████████▉  | 1.8MB 13.2MB/s eta 0:00:01\r\u001b[K     |██████████████████████████████  | 1.8MB 13.2MB/s eta 0:00:01\r\u001b[K     |██████████████████████████████▏ | 1.8MB 13.2MB/s eta 0:00:01\r\u001b[K     |██████████████████████████████▍ | 1.8MB 13.2MB/s eta 0:00:01\r\u001b[K     |██████████████████████████████▌ | 1.8MB 13.2MB/s eta 0:00:01\r\u001b[K     |██████████████████████████████▊ | 1.8MB 13.2MB/s eta 0:00:01\r\u001b[K     |███████████████████████████████ | 1.8MB 13.2MB/s eta 0:00:01\r\u001b[K     |███████████████████████████████ | 1.8MB 13.2MB/s eta 0:00:01\r\u001b[K     |███████████████████████████████▎| 1.8MB 13.2MB/s eta 0:00:01\r\u001b[K     |███████████████████████████████▍| 1.8MB 13.2MB/s eta 0:00:01\r\u001b[K     |███████████████████████████████▋| 1.9MB 13.2MB/s eta 0:00:01\r\u001b[K     |███████████████████████████████▊| 1.9MB 13.2MB/s eta 0:00:01\r\u001b[K     |████████████████████████████████| 1.9MB 13.2MB/s eta 0:00:01\r\u001b[K     |████████████████████████████████| 1.9MB 13.2MB/s \n",
            "\u001b[?25hInstalling collected packages: pydicom\n",
            "Successfully installed pydicom-2.1.0\n"
          ],
          "name": "stdout"
        }
      ]
    },
    {
      "cell_type": "code",
      "metadata": {
        "id": "NNkR55t2faqa"
      },
      "source": [
        "import pydicom as dicom\n",
        "import matplotlib.pylab as plt\n",
        "import cv2   \n",
        "# specify your image path\n",
        "#image_path = 'data/train_images/sample.dcm'\n",
        "#ds = dicom.dcmread(image_path)\n",
        "\n",
        "#plt.imshow(ds.pixel_array)"
      ],
      "execution_count": 9,
      "outputs": []
    },
    {
      "cell_type": "markdown",
      "metadata": {
        "id": "JS9TyLJOnYlz"
      },
      "source": [
        "#If you want to convert the image to png/jpg then you can do the following -"
      ]
    },
    {
      "cell_type": "code",
      "metadata": {
        "id": "xCFD3VyJnPao"
      },
      "source": [
        "#import pydicom as dicom\n",
        "#import cv2   \n",
        "\n",
        "# specify your image path\n",
        "#image_path = 'stage_2_train_images'\n",
        "#ds = dicom.dcmread(image_path)\n",
        "\n",
        "#pixel_array_numpy = ds.pixel_array\n",
        "\n",
        "#image_format = '.jpg' # or '.png'\n",
        "#image_path = image_path.replace('.dcm', image_format)\n",
        "\n",
        "#cv2.imwrite(image_path, pixel_array_numpy)"
      ],
      "execution_count": 5,
      "outputs": []
    },
    {
      "cell_type": "code",
      "metadata": {
        "id": "JF5oKzBoGA17",
        "outputId": "b0803f92-0ed1-4846-f1eb-bd1727834d68",
        "colab": {
          "base_uri": "https://localhost:8080/"
        }
      },
      "source": [
        "# Total training images\n",
        "import os\n",
        "count = 0\n",
        "\n",
        "d= \"stage_2_train_images\"\n",
        "for path in os.listdir(d):\n",
        "    if os.path.isfile(os.path.join(d, path)):\n",
        "        count += 1\n",
        "print(\"Total Training images:\")\n",
        "print(count)"
      ],
      "execution_count": 11,
      "outputs": [
        {
          "output_type": "stream",
          "text": [
            "Total Training images:\n",
            "26684\n"
          ],
          "name": "stdout"
        }
      ]
    },
    {
      "cell_type": "code",
      "metadata": {
        "id": "zEKnQF-vGTyQ",
        "outputId": "e02376b6-b3d3-4cef-cd48-f41d65daa54a",
        "colab": {
          "base_uri": "https://localhost:8080/"
        }
      },
      "source": [
        "# Total testing images\n",
        "count = 0\n",
        "\n",
        "d = \"stage_2_test_images\"\n",
        "for path in os.listdir(d):\n",
        "    if os.path.isfile(os.path.join(d, path)):\n",
        "        count += 1\n",
        "print(\"Total Testing images:\")\n",
        "print(count)"
      ],
      "execution_count": 12,
      "outputs": [
        {
          "output_type": "stream",
          "text": [
            "Total Testing images:\n",
            "3000\n"
          ],
          "name": "stdout"
        }
      ]
    },
    {
      "cell_type": "code",
      "metadata": {
        "id": "fuQgEvSKHmc2",
        "outputId": "c1021c8d-0160-4e33-e90e-08040cd60292",
        "colab": {
          "base_uri": "https://localhost:8080/"
        }
      },
      "source": [
        "# finding minimum and maximum image size for testing images\n",
        "min_size = os.path.getsize('stage_2_train_images/000db696-cf54-4385-b10b-6b16fbb3f985.dcm')\n",
        "max_size = os.path.getsize('stage_2_train_images/000db696-cf54-4385-b10b-6b16fbb3f985.dcm')\n",
        "d = \"stage_2_train_images\"\n",
        "for path in os.listdir(d):\n",
        "    if os.path.isfile(os.path.join(d, path)):\n",
        "        size = os.path.getsize(d + \"/\" + path)\n",
        "        if size < min_size:\n",
        "            min_size = size\n",
        "            min_filename = path\n",
        "        if size > max_size:\n",
        "            max_size = size\n",
        "            max_filename = path\n",
        "            \n",
        "print(min_size)\n",
        "print(max_size)"
      ],
      "execution_count": 13,
      "outputs": [
        {
          "output_type": "stream",
          "text": [
            "46234\n",
            "370560\n"
          ],
          "name": "stdout"
        }
      ]
    },
    {
      "cell_type": "markdown",
      "metadata": {
        "id": "gu-C-59CcS1y"
      },
      "source": [
        "# for reading the dataset from google drive"
      ]
    },
    {
      "cell_type": "code",
      "metadata": {
        "id": "UDiQJRgEMje3"
      },
      "source": [
        "datasets = dicom.read_file('/content/drive/My Drive/projects/capstone_project/Capestone/stage_2_train_images/0004cfab-14fd-4e49-80ba-63a80b6bddd6.dcm')"
      ],
      "execution_count": 14,
      "outputs": []
    },
    {
      "cell_type": "code",
      "metadata": {
        "id": "Gaqt2qe3eJpS",
        "outputId": "96a50a73-4402-4c9b-805a-79433e086df9",
        "colab": {
          "base_uri": "https://localhost:8080/"
        }
      },
      "source": [
        "print(datasets)"
      ],
      "execution_count": 15,
      "outputs": [
        {
          "output_type": "stream",
          "text": [
            "Dataset.file_meta -------------------------------\n",
            "(0002, 0000) File Meta Information Group Length  UL: 202\n",
            "(0002, 0001) File Meta Information Version       OB: b'\\x00\\x01'\n",
            "(0002, 0002) Media Storage SOP Class UID         UI: Secondary Capture Image Storage\n",
            "(0002, 0003) Media Storage SOP Instance UID      UI: 1.2.276.0.7230010.3.1.4.8323329.28530.1517874485.775526\n",
            "(0002, 0010) Transfer Syntax UID                 UI: JPEG Baseline (Process 1)\n",
            "(0002, 0012) Implementation Class UID            UI: 1.2.276.0.7230010.3.0.3.6.0\n",
            "(0002, 0013) Implementation Version Name         SH: 'OFFIS_DCMTK_360'\n",
            "-------------------------------------------------\n",
            "(0008, 0005) Specific Character Set              CS: 'ISO_IR 100'\n",
            "(0008, 0016) SOP Class UID                       UI: Secondary Capture Image Storage\n",
            "(0008, 0018) SOP Instance UID                    UI: 1.2.276.0.7230010.3.1.4.8323329.28530.1517874485.775526\n",
            "(0008, 0020) Study Date                          DA: '19010101'\n",
            "(0008, 0030) Study Time                          TM: '000000.00'\n",
            "(0008, 0050) Accession Number                    SH: ''\n",
            "(0008, 0060) Modality                            CS: 'CR'\n",
            "(0008, 0064) Conversion Type                     CS: 'WSD'\n",
            "(0008, 0090) Referring Physician's Name          PN: ''\n",
            "(0008, 103e) Series Description                  LO: 'view: PA'\n",
            "(0010, 0010) Patient's Name                      PN: '0004cfab-14fd-4e49-80ba-63a80b6bddd6'\n",
            "(0010, 0020) Patient ID                          LO: '0004cfab-14fd-4e49-80ba-63a80b6bddd6'\n",
            "(0010, 0030) Patient's Birth Date                DA: ''\n",
            "(0010, 0040) Patient's Sex                       CS: 'F'\n",
            "(0010, 1010) Patient's Age                       AS: '51'\n",
            "(0018, 0015) Body Part Examined                  CS: 'CHEST'\n",
            "(0018, 5101) View Position                       CS: 'PA'\n",
            "(0020, 000d) Study Instance UID                  UI: 1.2.276.0.7230010.3.1.2.8323329.28530.1517874485.775525\n",
            "(0020, 000e) Series Instance UID                 UI: 1.2.276.0.7230010.3.1.3.8323329.28530.1517874485.775524\n",
            "(0020, 0010) Study ID                            SH: ''\n",
            "(0020, 0011) Series Number                       IS: \"1\"\n",
            "(0020, 0013) Instance Number                     IS: \"1\"\n",
            "(0020, 0020) Patient Orientation                 CS: ''\n",
            "(0028, 0002) Samples per Pixel                   US: 1\n",
            "(0028, 0004) Photometric Interpretation          CS: 'MONOCHROME2'\n",
            "(0028, 0010) Rows                                US: 1024\n",
            "(0028, 0011) Columns                             US: 1024\n",
            "(0028, 0030) Pixel Spacing                       DS: [0.14300000000000002, 0.14300000000000002]\n",
            "(0028, 0100) Bits Allocated                      US: 8\n",
            "(0028, 0101) Bits Stored                         US: 8\n",
            "(0028, 0102) High Bit                            US: 7\n",
            "(0028, 0103) Pixel Representation                US: 0\n",
            "(0028, 2110) Lossy Image Compression             CS: '01'\n",
            "(0028, 2114) Lossy Image Compression Method      CS: 'ISO_10918_1'\n",
            "(7fe0, 0010) Pixel Data                          OB: Array of 142006 elements\n"
          ],
          "name": "stdout"
        }
      ]
    },
    {
      "cell_type": "code",
      "metadata": {
        "id": "b8kWsgwkHvJp",
        "outputId": "c2f15e2b-52c3-4d3e-c71f-2e1c59e0ec8b",
        "colab": {
          "base_uri": "https://localhost:8080/",
          "height": 287
        }
      },
      "source": [
        "# plotting image\n",
        "import pydicom as dicom\n",
        "import matplotlib.pylab as plt\n",
        "\n",
        "image_path = 'stage_2_train_images/' + min_filename\n",
        "ds = dicom.dcmread(image_path)\n",
        "\n",
        "plt.imshow(ds.pixel_array, cmap='gray')"
      ],
      "execution_count": 12,
      "outputs": [
        {
          "output_type": "execute_result",
          "data": {
            "text/plain": [
              "<matplotlib.image.AxesImage at 0x7f42bbd563c8>"
            ]
          },
          "metadata": {
            "tags": []
          },
          "execution_count": 12
        },
        {
          "output_type": "display_data",
          "data": {
            "image/png": "[encoded data removed]",
            "text/plain": [
              "<Figure size 432x288 with 1 Axes>"
            ]
          },
          "metadata": {
            "tags": [],
            "needs_background": "light"
          }
        }
      ]
    },
    {
      "cell_type": "code",
      "metadata": {
        "id": "SEqFy139H0cp",
        "outputId": "086b591d-f305-4cf5-9395-7404213b1788",
        "colab": {
          "base_uri": "https://localhost:8080/",
          "height": 287
        }
      },
      "source": [
        "# plotting another image\n",
        "image_path = 'stage_2_train_images/' + max_filename\n",
        "ds = dicom.dcmread(image_path)\n",
        "\n",
        "plt.imshow(ds.pixel_array, cmap='gray')"
      ],
      "execution_count": 13,
      "outputs": [
        {
          "output_type": "execute_result",
          "data": {
            "text/plain": [
              "<matplotlib.image.AxesImage at 0x7f42bbcde160>"
            ]
          },
          "metadata": {
            "tags": []
          },
          "execution_count": 13
        },
        {
          "output_type": "display_data",
          "data": {
            "image/png": "[encoded data removed]",
            "text/plain": [
              "<Figure size 432x288 with 1 Axes>"
            ]
          },
          "metadata": {
            "tags": [],
            "needs_background": "light"
          }
        }
      ]
    },
    {
      "cell_type": "code",
      "metadata": {
        "id": "iznQk-lkH6ex",
        "outputId": "01824deb-f177-4f00-9ae5-2252198bd5cd",
        "colab": {
          "base_uri": "https://localhost:8080/"
        }
      },
      "source": [
        "# finding minimum and maximum image size for training images\n",
        "min_size = os.path.getsize('stage_2_test_images/0000a175-0e68-4ca4-b1af-167204a7e0bc.dcm')\n",
        "max_size = os.path.getsize('stage_2_test_images/0000a175-0e68-4ca4-b1af-167204a7e0bc.dcm')\n",
        "d = \"stage_2_test_images\"\n",
        "for path in os.listdir(d):\n",
        "    if os.path.isfile(os.path.join(d, path)):\n",
        "        size = os.path.getsize(d + \"/\" + path)\n",
        "        if size < min_size:\n",
        "            min_size = size\n",
        "            min_filename = path\n",
        "        if size > max_size:\n",
        "            max_size = size\n",
        "            max_filename = path\n",
        "            \n",
        "print(min_size)\n",
        "print(max_size)"
      ],
      "execution_count": 14,
      "outputs": [
        {
          "output_type": "stream",
          "text": [
            "46242\n",
            "189830\n"
          ],
          "name": "stdout"
        }
      ]
    },
    {
      "cell_type": "code",
      "metadata": {
        "id": "YQqQ6veSIL2F",
        "outputId": "3c78a8cd-6261-4a18-af0a-31460e36ccae",
        "colab": {
          "base_uri": "https://localhost:8080/"
        }
      },
      "source": [
        "# plotting dcm metadata details for one image\n",
        "image_path = 'stage_2_train_images/000db696-cf54-4385-b10b-6b16fbb3f985.dcm'\n",
        "ds = dicom.dcmread(image_path, force = True)\n",
        "\n",
        "ds"
      ],
      "execution_count": 15,
      "outputs": [
        {
          "output_type": "execute_result",
          "data": {
            "text/plain": [
              "Dataset.file_meta -------------------------------\n",
              "(0002, 0000) File Meta Information Group Length  UL: 200\n",
              "(0002, 0001) File Meta Information Version       OB: b'\\x00\\x01'\n",
              "(0002, 0002) Media Storage SOP Class UID         UI: Secondary Capture Image Storage\n",
              "(0002, 0003) Media Storage SOP Instance UID      UI: 1.2.276.0.7230010.3.1.4.8323329.4475.1517874307.936345\n",
              "(0002, 0010) Transfer Syntax UID                 UI: JPEG Baseline (Process 1)\n",
              "(0002, 0012) Implementation Class UID            UI: 1.2.276.0.7230010.3.0.3.6.0\n",
              "(0002, 0013) Implementation Version Name         SH: 'OFFIS_DCMTK_360'\n",
              "-------------------------------------------------\n",
              "(0008, 0005) Specific Character Set              CS: 'ISO_IR 100'\n",
              "(0008, 0016) SOP Class UID                       UI: Secondary Capture Image Storage\n",
              "(0008, 0018) SOP Instance UID                    UI: 1.2.276.0.7230010.3.1.4.8323329.4475.1517874307.936345\n",
              "(0008, 0020) Study Date                          DA: '19010101'\n",
              "(0008, 0030) Study Time                          TM: '000000.00'\n",
              "(0008, 0050) Accession Number                    SH: ''\n",
              "(0008, 0060) Modality                            CS: 'CR'\n",
              "(0008, 0064) Conversion Type                     CS: 'WSD'\n",
              "(0008, 0090) Referring Physician's Name          PN: ''\n",
              "(0008, 103e) Series Description                  LO: 'view: AP'\n",
              "(0010, 0010) Patient's Name                      PN: '000db696-cf54-4385-b10b-6b16fbb3f985'\n",
              "(0010, 0020) Patient ID                          LO: '000db696-cf54-4385-b10b-6b16fbb3f985'\n",
              "(0010, 0030) Patient's Birth Date                DA: ''\n",
              "(0010, 0040) Patient's Sex                       CS: 'F'\n",
              "(0010, 1010) Patient's Age                       AS: '25'\n",
              "(0018, 0015) Body Part Examined                  CS: 'CHEST'\n",
              "(0018, 5101) View Position                       CS: 'AP'\n",
              "(0020, 000d) Study Instance UID                  UI: 1.2.276.0.7230010.3.1.2.8323329.4475.1517874307.936344\n",
              "(0020, 000e) Series Instance UID                 UI: 1.2.276.0.7230010.3.1.3.8323329.4475.1517874307.936343\n",
              "(0020, 0010) Study ID                            SH: ''\n",
              "(0020, 0011) Series Number                       IS: \"1\"\n",
              "(0020, 0013) Instance Number                     IS: \"1\"\n",
              "(0020, 0020) Patient Orientation                 CS: ''\n",
              "(0028, 0002) Samples per Pixel                   US: 1\n",
              "(0028, 0004) Photometric Interpretation          CS: 'MONOCHROME2'\n",
              "(0028, 0010) Rows                                US: 1024\n",
              "(0028, 0011) Columns                             US: 1024\n",
              "(0028, 0030) Pixel Spacing                       DS: [0.168, 0.168]\n",
              "(0028, 0100) Bits Allocated                      US: 8\n",
              "(0028, 0101) Bits Stored                         US: 8\n",
              "(0028, 0102) High Bit                            US: 7\n",
              "(0028, 0103) Pixel Representation                US: 0\n",
              "(0028, 2110) Lossy Image Compression             CS: '01'\n",
              "(0028, 2114) Lossy Image Compression Method      CS: 'ISO_10918_1'\n",
              "(7fe0, 0010) Pixel Data                          OB: Array of 100460 elements"
            ]
          },
          "metadata": {
            "tags": []
          },
          "execution_count": 15
        }
      ]
    },
    {
      "cell_type": "code",
      "metadata": {
        "id": "wI0-jjBxIME6",
        "outputId": "d51b7f24-ba14-4280-aedc-c7ee0ba600bd",
        "colab": {
          "base_uri": "https://localhost:8080/",
          "height": 239
        }
      },
      "source": [
        "# importing metadata details for testing imaages to an excel file\n",
        "import pickle\n",
        "\n",
        "d = \"stage_2_train_images\"\n",
        "data = \"\"\n",
        "for path in os.listdir(d):\n",
        "    if os.path.isfile(os.path.join(d, path)):\n",
        "        ds = dicom.dcmread(d + \"/\" + path)\n",
        "        dat1 = ds[16,32].value\n",
        "        dat2 = ds[16,64].value\n",
        "        dat3 = ds[16,4112].value\n",
        "        dat4 = ds[24,21].value\n",
        "        data = data + dat1 + ',' + dat2 + ',' + dat3 + ',' + dat4 + ',' + '\\n'\n",
        "        with open('images_more_data_training.csv', 'wb') as fp:\n",
        "            pickle.dump(data, fp)"
      ],
      "execution_count": 1,
      "outputs": [
        {
          "output_type": "error",
          "ename": "NameError",
          "evalue": "ignored",
          "traceback": [
            "\u001b[0;31m---------------------------------------------------------------------------\u001b[0m",
            "\u001b[0;31mNameError\u001b[0m                                 Traceback (most recent call last)",
            "\u001b[0;32m<ipython-input-1-238bf59665e4>\u001b[0m in \u001b[0;36m<module>\u001b[0;34m()\u001b[0m\n\u001b[1;32m      4\u001b[0m \u001b[0md\u001b[0m \u001b[0;34m=\u001b[0m \u001b[0;34m\"stage_2_train_images\"\u001b[0m\u001b[0;34m\u001b[0m\u001b[0;34m\u001b[0m\u001b[0m\n\u001b[1;32m      5\u001b[0m \u001b[0mdata\u001b[0m \u001b[0;34m=\u001b[0m \u001b[0;34m\"\"\u001b[0m\u001b[0;34m\u001b[0m\u001b[0;34m\u001b[0m\u001b[0m\n\u001b[0;32m----> 6\u001b[0;31m \u001b[0;32mfor\u001b[0m \u001b[0mpath\u001b[0m \u001b[0;32min\u001b[0m \u001b[0mos\u001b[0m\u001b[0;34m.\u001b[0m\u001b[0mlistdir\u001b[0m\u001b[0;34m(\u001b[0m\u001b[0md\u001b[0m\u001b[0;34m)\u001b[0m\u001b[0;34m:\u001b[0m\u001b[0;34m\u001b[0m\u001b[0;34m\u001b[0m\u001b[0m\n\u001b[0m\u001b[1;32m      7\u001b[0m     \u001b[0;32mif\u001b[0m \u001b[0mos\u001b[0m\u001b[0;34m.\u001b[0m\u001b[0mpath\u001b[0m\u001b[0;34m.\u001b[0m\u001b[0misfile\u001b[0m\u001b[0;34m(\u001b[0m\u001b[0mos\u001b[0m\u001b[0;34m.\u001b[0m\u001b[0mpath\u001b[0m\u001b[0;34m.\u001b[0m\u001b[0mjoin\u001b[0m\u001b[0;34m(\u001b[0m\u001b[0md\u001b[0m\u001b[0;34m,\u001b[0m \u001b[0mpath\u001b[0m\u001b[0;34m)\u001b[0m\u001b[0;34m)\u001b[0m\u001b[0;34m:\u001b[0m\u001b[0;34m\u001b[0m\u001b[0;34m\u001b[0m\u001b[0m\n\u001b[1;32m      8\u001b[0m         \u001b[0mds\u001b[0m \u001b[0;34m=\u001b[0m \u001b[0mdicom\u001b[0m\u001b[0;34m.\u001b[0m\u001b[0mdcmread\u001b[0m\u001b[0;34m(\u001b[0m\u001b[0md\u001b[0m \u001b[0;34m+\u001b[0m \u001b[0;34m\"/\"\u001b[0m \u001b[0;34m+\u001b[0m \u001b[0mpath\u001b[0m\u001b[0;34m)\u001b[0m\u001b[0;34m\u001b[0m\u001b[0;34m\u001b[0m\u001b[0m\n",
            "\u001b[0;31mNameError\u001b[0m: name 'os' is not defined"
          ]
        }
      ]
    },
    {
      "cell_type": "code",
      "metadata": {
        "id": "iVFMDF7fILqi"
      },
      "source": [
        "# importing metadata details for training images to an excel file\n",
        " = \"stage_2_test_images\"\n",
        "data = \"\"\n",
        "for path in os.listdir(d):\n",
        "    if os.path.isfile(os.path.join(d, path)):\n",
        "        ds = dicom.dcmread(d + \"/\" + path)\n",
        "        dat1 = ds[16,32].value\n",
        "        dat2 = ds[16,64].value\n",
        "        dat3 = ds[16,4112].value\n",
        "        dat4 = ds[24,21].value\n",
        "        data = data + dat1 + ',' + dat2 + ',' + dat3 + ',' + dat4 + ',' + '\\n'\n",
        "        with open('images_more_data_test.csv', 'wb') as fp:\n",
        "            pickle.dump(data, fp)"
      ],
      "execution_count": null,
      "outputs": []
    },
    {
      "cell_type": "code",
      "metadata": {
        "id": "8z-wovYKJXvr"
      },
      "source": [
        "import pandas as pd\n",
        "\n",
        "class_info = pd.read_csv(\"stage_2_detailed_class_info.csv\")\n",
        "\n",
        "class_info.shape\n",
        "\n",
        "class_info.head(10)\n",
        "\n",
        "class_info.describe()\n",
        "\n",
        "class_info['class'].unique()\n",
        "\n",
        "import seaborn as sb\n",
        "\n",
        "sb.countplot(x='class',data=class_info)\n",
        "\n",
        "class_info.isnull().sum()\n",
        "\n",
        "# same for train_labels csv"
      ],
      "execution_count": null,
      "outputs": []
    },
    {
      "cell_type": "code",
      "metadata": {
        "id": "58l0imiKJXbx"
      },
      "source": [
        ""
      ],
      "execution_count": null,
      "outputs": []
    }
  ]
}