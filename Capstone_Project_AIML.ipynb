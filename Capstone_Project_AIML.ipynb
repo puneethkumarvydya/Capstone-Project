{
  "nbformat": 4,
  "nbformat_minor": 0,
  "metadata": {
    "colab": {
      "name": "Capstone_Project_AIML.ipynb",
      "provenance": [],
      "toc_visible": true,
      "include_colab_link": true
    },
    "kernelspec": {
      "name": "python3",
      "display_name": "Python 3"
    }
  },
  "cells": [
    {
      "cell_type": "markdown",
      "metadata": {
        "id": "view-in-github",
        "colab_type": "text"
      },
      "source": [
        "<a href=\"https://colab.research.google.com/github/puneethkumarvydya/Capstone-Project/blob/Ganesh's-Branch/Capstone_Project_AIML.ipynb\" target=\"_parent\"><img src=\"https://colab.research.google.com/assets/colab-badge.svg\" alt=\"Open In Colab\"/></a>"
      ]
    },
    {
      "cell_type": "code",
      "metadata": {
        "id": "usqXBgoAnb46"
      },
      "source": [
        ""
      ],
      "execution_count": null,
      "outputs": []
    },
    {
      "cell_type": "markdown",
      "metadata": {
        "id": "cs_b83aknnl4"
      },
      "source": [
        "# Project Pneumonia detection from chest X-Ray images "
      ]
    },
    {
      "cell_type": "markdown",
      "metadata": {
        "id": "cwuGW-so2hEw"
      },
      "source": [
        "# Project Description\n",
        "\n",
        "\n",
        "In this capstone project, the goal is to build a pneumonia detection system, to locate the position of inflammation in an image. Tissues with sparse material, such as lungs which are full of air, do not absorb the X-rays and appear black in the image. Dense tissues such as bones absorb X-rays and appear white in the image. While we are theoretically detecting “lung opacities”, there are lung opacities that are not pneumonia related. In the data, some of these are labeled “Not Normal No Lung Opacity”. This extra third class indicates that while pneumonia was determined not to be present, there was nonetheless some type of abnormality on the image and oftentimes this finding may mimic the appearance of true pneumonia. Dicom original images: - Medical images are stored in a special format called DICOM files (*.dcm). They contain a combination of header metadata as well as underlying raw image arrays for pixel data. Details about the data and dataset files are given in below link, https://www.kaggle.com/c/rsna-pneumonia-detection-challenge/data"
      ]
    },
    {
      "cell_type": "code",
      "metadata": {
        "id": "y50tKDXvNO0Y"
      },
      "source": [
        ""
      ],
      "execution_count": null,
      "outputs": []
    },
    {
      "cell_type": "markdown",
      "metadata": {
        "id": "SfDxC2XW2j5a"
      },
      "source": [
        "# Pre-Processing, Data Visualization, EDA\n",
        " Exploring the given Data files, classes and images of different classes.\n",
        "\n",
        " Dealing with missing values\n",
        "\n",
        " Visualization of different classes\n",
        "\n",
        " Analysis from the visualization of different classes.\n",
        "\n",
        "# Model Building\n",
        " Building a pneumonia detection model starting from basic CNN and then improving upon it.\n",
        " Train the model\n",
        "\n",
        " To deal with large training time, save the weights so that you can use them when training the\n",
        "\n",
        "model for the second time without starting from scratch.\n",
        "\n",
        " **Test the model and report as per evaluation metrics**\n",
        "\n",
        " Try different models\n",
        "\n",
        " Set different hyper parameters, by trying different optimizers, loss functions, epochs, learning\n",
        "\n",
        "rate, batch size, checkpointing, early stopping etc. for these models to fine-tune them\n",
        "\n",
        " Report evaluation metrics for these models along with your observation on how changing\n",
        "\n",
        "different hyper parameters leads to change in the final evaluation metric."
      ]
    },
    {
      "cell_type": "code",
      "metadata": {
        "id": "Nl2MPPhyRWj0",
        "outputId": "4cff2278-7117-4325-8c6c-a304f12dfc4a",
        "colab": {
          "base_uri": "https://localhost:8080/",
          "height": 36
        }
      },
      "source": [
        "import tensorflow\n",
        "tensorflow.__version__"
      ],
      "execution_count": 3,
      "outputs": [
        {
          "output_type": "execute_result",
          "data": {
            "application/vnd.google.colaboratory.intrinsic+json": {
              "type": "string"
            },
            "text/plain": [
              "'2.3.0'"
            ]
          },
          "metadata": {
            "tags": []
          },
          "execution_count": 3
        }
      ]
    },
    {
      "cell_type": "code",
      "metadata": {
        "id": "cbv1JaKHevBM",
        "outputId": "bd5803be-dde3-4c39-cce6-641e6e9de5fb",
        "colab": {
          "base_uri": "https://localhost:8080/"
        }
      },
      "source": [
        "from google.colab import drive\n",
        "drive.mount('/content/drive')"
      ],
      "execution_count": 4,
      "outputs": [
        {
          "output_type": "stream",
          "text": [
            "Drive already mounted at /content/drive; to attempt to forcibly remount, call drive.mount(\"/content/drive\", force_remount=True).\n"
          ],
          "name": "stdout"
        }
      ]
    },
    {
      "cell_type": "code",
      "metadata": {
        "id": "ETf7-fzCeu04"
      },
      "source": [
        ""
      ],
      "execution_count": null,
      "outputs": []
    },
    {
      "cell_type": "markdown",
      "metadata": {
        "id": "47WqYMsregXO"
      },
      "source": [
        "# Let’s start with loading all the libraries and dependencies."
      ]
    },
    {
      "cell_type": "code",
      "metadata": {
        "id": "qcLvD5DzRZ-l"
      },
      "source": [
        "import os\n",
        "import numpy as np\n",
        "import pandas as pd \n",
        "import random\n",
        "import cv2\n",
        "import matplotlib.pyplot as plt\n",
        "%matplotlib inline\n",
        "\n",
        "import keras.backend as K\n",
        "from keras.models import Model, Sequential\n",
        "from keras.layers import Input, Dense, Flatten, Dropout, BatchNormalization\n",
        "from keras.layers import Conv2D, SeparableConv2D, MaxPool2D, LeakyReLU, Activation\n",
        "from keras.optimizers import Adam\n",
        "from keras.preprocessing.image import ImageDataGenerator\n",
        "from keras.callbacks import ModelCheckpoint, ReduceLROnPlateau, EarlyStopping\n",
        "import tensorflow as tf\n",
        "\n",
        "seed = 232\n",
        "np.random.seed(seed)\n",
        "#tf.set_random_seed(seed)"
      ],
      "execution_count": 5,
      "outputs": []
    },
    {
      "cell_type": "code",
      "metadata": {
        "id": "_Q6rUCYLfa3K"
      },
      "source": [
        ""
      ],
      "execution_count": null,
      "outputs": []
    },
    {
      "cell_type": "code",
      "metadata": {
        "id": "1ZyztQaPfbi1",
        "outputId": "3ebb1211-5cf3-466e-ae62-5ce461cf2c83",
        "colab": {
          "base_uri": "https://localhost:8080/"
        }
      },
      "source": [
        "os.chdir('/content/drive/My Drive/projects/capstone_project/Capestone/')\n",
        "#path = ('.')\n",
        "os.listdir()"
      ],
      "execution_count": 6,
      "outputs": [
        {
          "output_type": "execute_result",
          "data": {
            "text/plain": [
              "['Pneumonia Detection Challenge Brief.pdf',\n",
              " 'Interim Report Format.pdf',\n",
              " 'Final Report Format.pdf',\n",
              " 'rsna-pneumonia-detection-challenge.zip',\n",
              " 'GCP Credits Request Link - RSNA.txt',\n",
              " 'stage_2_detailed_class_info.csv',\n",
              " 'stage_2_sample_submission.csv',\n",
              " 'stage_2_test_images',\n",
              " 'stage_2_train_images',\n",
              " 'stage_2_train_labels.csv']"
            ]
          },
          "metadata": {
            "tags": []
          },
          "execution_count": 6
        }
      ]
    },
    {
      "cell_type": "markdown",
      "metadata": {
        "id": "Yiy2GlA8iV5q"
      },
      "source": [
        "# All our images are in the zip file so we need to extract the contents of this file"
      ]
    },
    {
      "cell_type": "code",
      "metadata": {
        "id": "QlopPGITfbIF"
      },
      "source": [
        "#images_zip_path = project_path + 'Aligned Face Dataset from Pinterest.zip' #\"images.zip\"\n",
        "from zipfile import ZipFile\n",
        "with ZipFile(\"rsna-pneumonia-detection-challenge.zip\",'r') as z:\n",
        "  z.extractall()"
      ],
      "execution_count": null,
      "outputs": []
    },
    {
      "cell_type": "markdown",
      "metadata": {
        "id": "KSe-2yASlwOc"
      },
      "source": [
        "## DICOM images are generally used to store medical images. They are highly informative. Along with image data it stores lots of key patient information, such as, patient’s name, age, sex, doctor’s name etc.\n",
        "\n",
        "## ##If you just want to preview dicom images without extracting any information then use the following code. You need to install pydicom python package, you can install using **pip install pydicom** -"
      ]
    },
    {
      "cell_type": "code",
      "metadata": {
        "id": "G_UQuAERltwe"
      },
      "source": [
        "pip install pydicom"
      ],
      "execution_count": null,
      "outputs": []
    },
    {
      "cell_type": "code",
      "metadata": {
        "id": "NNkR55t2faqa"
      },
      "source": [
        "import pydicom as dicom\n",
        "import matplotlib.pylab as plt\n",
        "\n",
        "# specify your image path\n",
        "#image_path = 'data/train_images/sample.dcm'\n",
        "#ds = dicom.dcmread(image_path)\n",
        "\n",
        "#plt.imshow(ds.pixel_array)"
      ],
      "execution_count": null,
      "outputs": []
    },
    {
      "cell_type": "markdown",
      "metadata": {
        "id": "JS9TyLJOnYlz"
      },
      "source": [
        "#If you want to convert the image to png/jpg then you can do the following -"
      ]
    },
    {
      "cell_type": "code",
      "metadata": {
        "id": "xCFD3VyJnPao"
      },
      "source": [
        "import pydicom as dicom\n",
        "import cv2   \n",
        "\n",
        "# specify your image path\n",
        "image_path = 'data/train_images/sample.dcm'\n",
        "ds = dicom.dcmread(image_path)\n",
        "\n",
        "pixel_array_numpy = ds.pixel_array\n",
        "\n",
        "image_format = '.jpg' # or '.png'\n",
        "image_path = image_path.replace('.dcm', image_format)\n",
        "\n",
        "cv2.imwrite(image_path, pixel_array_numpy)"
      ],
      "execution_count": null,
      "outputs": []
    }
  ]
}