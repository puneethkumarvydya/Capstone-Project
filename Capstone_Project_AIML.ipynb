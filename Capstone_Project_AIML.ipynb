{
  "nbformat": 4,
  "nbformat_minor": 0,
  "metadata": {
    "colab": {
      "name": "Capstone_Project_AIML.ipynb",
      "provenance": [],
      "include_colab_link": true
    },
    "kernelspec": {
      "name": "python3",
      "display_name": "Python 3"
    }
  },
  "cells": [
    {
      "cell_type": "markdown",
      "metadata": {
        "id": "view-in-github",
        "colab_type": "text"
      },
      "source": [
        "<a href=\"https://colab.research.google.com/github/puneethkumarvydya/Capstone-Project/blob/Ganesh's-Branch/Capstone_Project_AIML.ipynb\" target=\"_parent\"><img src=\"https://colab.research.google.com/assets/colab-badge.svg\" alt=\"Open In Colab\"/></a>"
      ]
    },
    {
      "cell_type": "code",
      "metadata": {
        "id": "usqXBgoAnb46"
      },
      "source": [
        ""
      ],
      "execution_count": null,
      "outputs": []
    },
    {
      "cell_type": "markdown",
      "metadata": {
        "id": "cs_b83aknnl4"
      },
      "source": [
        "# Project Pneumonia detection from chest X-Ray images "
      ]
    },
    {
      "cell_type": "markdown",
      "metadata": {
        "id": "cwuGW-so2hEw"
      },
      "source": [
        "# Project Description\n",
        "\n",
        "\n",
        "In this capstone project, the goal is to build a pneumonia detection system, to locate the position of inflammation in an image. Tissues with sparse material, such as lungs which are full of air, do not absorb the X-rays and appear black in the image. Dense tissues such as bones absorb X-rays and appear white in the image. While we are theoretically detecting “lung opacities”, there are lung opacities that are not pneumonia related. In the data, some of these are labeled “Not Normal No Lung Opacity”. This extra third class indicates that while pneumonia was determined not to be present, there was nonetheless some type of abnormality on the image and oftentimes this finding may mimic the appearance of true pneumonia. Dicom original images: - Medical images are stored in a special format called DICOM files (*.dcm). They contain a combination of header metadata as well as underlying raw image arrays for pixel data. Details about the data and dataset files are given in below link, https://www.kaggle.com/c/rsna-pneumonia-detection-challenge/data"
      ]
    },
    {
      "cell_type": "code",
      "metadata": {
        "id": "y50tKDXvNO0Y"
      },
      "source": [
        ""
      ],
      "execution_count": null,
      "outputs": []
    },
    {
      "cell_type": "markdown",
      "metadata": {
        "id": "SfDxC2XW2j5a"
      },
      "source": [
        "# Pre-Processing, Data Visualization, EDA\n",
        " Exploring the given Data files, classes and images of different classes.\n",
        "\n",
        " Dealing with missing values\n",
        "\n",
        " Visualization of different classes\n",
        "\n",
        " Analysis from the visualization of different classes.\n",
        "\n",
        "# Model Building\n",
        " Building a pneumonia detection model starting from basic CNN and then improving upon it.\n",
        " Train the model\n",
        "\n",
        " To deal with large training time, save the weights so that you can use them when training the\n",
        "\n",
        "model for the second time without starting from scratch.\n",
        "\n",
        " **Test the model and report as per evaluation metrics**\n",
        "\n",
        " Try different models\n",
        "\n",
        " Set different hyper parameters, by trying different optimizers, loss functions, epochs, learning\n",
        "\n",
        "rate, batch size, checkpointing, early stopping etc. for these models to fine-tune them\n",
        "\n",
        " Report evaluation metrics for these models along with your observation on how changing\n",
        "\n",
        "different hyper parameters leads to change in the final evaluation metric."
      ]
    },
    {
      "cell_type": "code",
      "metadata": {
        "id": "Nl2MPPhyRWj0"
      },
      "source": [
        ""
      ],
      "execution_count": null,
      "outputs": []
    },
    {
      "cell_type": "code",
      "metadata": {
        "id": "qcLvD5DzRZ-l"
      },
      "source": [
        ""
      ],
      "execution_count": null,
      "outputs": []
    }
  ]
}